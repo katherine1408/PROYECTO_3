{
 "cells": [
  {
   "cell_type": "markdown",
   "metadata": {
    "id": "E0vqbgi9ay0H"
   },
   "source": [
    "# Déjame escuchar la música"
   ]
  },
  {
   "cell_type": "markdown",
   "metadata": {
    "id": "fhq_eyov_Zcs"
   },
   "source": [
    "# Contenido <a id='back'></a>\n",
    "\n",
    "* [Introducción](#intro)\n",
    "* [Etapa 1. Descripción de los datos](#data_review)\n",
    "    * [Conclusiones](#data_review_conclusions)\n",
    "* [Etapa 2. Preprocesamiento de datos](#data_preprocessing)\n",
    "    * [2.1 Estilo del encabezado](#header_style)\n",
    "    * [2.2 Valores ausentes](#missing_values)\n",
    "    * [2.3 Duplicados](#duplicates)\n",
    "    * [2.4 Conclusiones](#data_preprocessing_conclusions)\n",
    "* [Etapa 3. Prueba de hipótesis](#hypothesis)\n",
    "    * [3.1 Hipótesis 1: actividad de los usuarios y las usuarias en las dos ciudades](#activity)\n",
    "* [Conclusiones](#end)"
   ]
  },
  {
   "cell_type": "markdown",
   "metadata": {
    "id": "VUC88oWjTJw2",
    "vscode": {
     "languageId": "raw"
    }
   },
   "source": [
    "# Introducción <a id='intro'></a>\n",
    "Como analista de datos, tu trabajo consiste en analizar datos para extraer información valiosa y tomar decisiones basadas en ellos. Esto implica diferentes etapas, como la descripción general de los datos, el preprocesamiento y la prueba de hipótesis.\n",
    "\n",
    "Siempre que investigamos, necesitamos formular hipótesis que después podamos probar. A veces aceptamos estas hipótesis; otras veces, las rechazamos. Para tomar las decisiones correctas, una empresa debe ser capaz de entender si está haciendo las suposiciones correctas.\n",
    "\n",
    "En este proyecto, compararás las preferencias musicales de las ciudades de Springfield y Shelbyville. Estudiarás datos reales de transmisión de música online para probar la hipótesis a continuación y comparar el comportamiento de los usuarios y las usuarias de estas dos ciudades.\n",
    "\n",
    "### Objetivo:\n",
    "Prueba la hipótesis:\n",
    "1. La actividad de los usuarios y las usuarias difiere según el día de la semana y dependiendo de la ciudad.\n",
    "\n",
    "\n",
    "### Etapas\n",
    "Los datos del comportamiento del usuario se almacenan en el archivo `/datasets/music_project_en.csv`. No hay ninguna información sobre la calidad de los datos, así que necesitarás examinarlos antes de probar la hipótesis.\n",
    "\n",
    "Primero, evaluarás la calidad de los datos y verás si los problemas son significativos. Entonces, durante el preprocesamiento de datos, tomarás en cuenta los problemas más críticos.\n",
    "\n",
    "Tu proyecto consistirá en tres etapas:\n",
    " 1. Descripción de los datos.\n",
    " 2. Preprocesamiento de datos.\n",
    " 3. Prueba de hipótesis.\n",
    "\n",
    "\n",
    "\n",
    "\n",
    "\n",
    "\n"
   ]
  },
  {
   "cell_type": "markdown",
   "metadata": {
    "tags": [
     "parameters"
    ]
   },
   "source": [
    "Para extraer información valiosa y tomar decisiones basadas en ellos. Esto implica diferentes etapas, como la descripción general de los datos, el preprocesamiento y la prueba de hipótesis.\n",
    "\n",
    "Siempre que investigamos, necesitamos formular hipótesis que después podamos probar. A veces aceptamos estas hipótesis; otras veces, las rechazamos. Para tomar las decisiones correctas, una empresa debe ser capaz de entender si está haciendo las suposiciones correctas.\n",
    "\n",
    "En este proyecto, compararás las preferencias musicales de las ciudades de Springfield y Shelbyville. Estudiarás datos reales de transmisión de música online para probar la hipótesis a continuación y comparar el comportamiento de los usuarios y las usuarias de estas dos ciudades.\n",
    "\n",
    "### Objetivo:\n",
    "Prueba la hipótesis:\n",
    "1. La actividad de los usuarios y las usuarias difiere según el día de la semana y dependiendo de la ciudad.\n",
    "\n",
    "\n",
    "### Etapas\n",
    "Los datos del comportamiento del usuario se almacenan en el archivo `/datasets/music_project_en.csv`. No hay ninguna información sobre la calidad de los datos, así que necesitarás examinarlos antes de probar la hipótesis.\n",
    "\n",
    "Primero, evaluarás la calidad de los datos y verás si los problemas son significativos. Entonces, durante el preprocesamiento de datos, tomarás en cuenta los problemas más críticos.\n",
    "\n",
    "Tu proyecto consistirá en tres etapas:\n",
    " 1. Descripción de los datos.\n",
    " 2. Preprocesamiento de datos.\n",
    " 3. Prueba de hipótesis.\n",
    "\n",
    "\n",
    "\n",
    "\n",
    "\n",
    "\n"
   ]
  },
  {
   "cell_type": "markdown",
   "metadata": {
    "id": "hDt6pg-Rw-1U"
   },
   "source": [
    "[Volver a Contenidos](#back)"
   ]
  },
  {
   "cell_type": "markdown",
   "metadata": {
    "id": "Ml1hmfXC_Zcs"
   },
   "source": [
    "## Etapa 1. Descripción de los datos <a id='data_review'></a>\n",
    "\n",
    "Abre los datos y examínalos."
   ]
  },
  {
   "cell_type": "markdown",
   "metadata": {
    "id": "57eAOGIz_Zcs"
   },
   "source": [
    "Necesitarás `pandas`, así que impórtalo."
   ]
  },
  {
   "cell_type": "code",
   "execution_count": 1,
   "metadata": {
    "id": "AXN7PHPN_Zcs"
   },
   "outputs": [],
   "source": [
    "import pandas # Importar pandas\n"
   ]
  },
  {
   "cell_type": "markdown",
   "metadata": {
    "id": "SG23P8tt_Zcs"
   },
   "source": [
    "Lee el archivo `music_project_en.csv` de la carpeta `/datasets/` y guárdalo en la variable `df`:"
   ]
  },
  {
   "cell_type": "code",
   "execution_count": null,
   "metadata": {
    "id": "fFVu7vqh_Zct"
   },
   "outputs": [],
   "source": [
    "# Leer el archivo y almacenarlo en df\n",
    "df = pandas.read_csv('music_project_en.csv') # leer)"
   ]
  },
  {
   "cell_type": "markdown",
   "metadata": {
    "id": "rDoOMd3uTqnZ"
   },
   "source": [
    "Muestra las 10 primeras filas de la tabla:"
   ]
  },
  {
   "cell_type": "code",
   "execution_count": null,
   "metadata": {
    "id": "oWTVX3gW_Zct"
   },
   "outputs": [
    {
     "data": {
      "text/html": [
       "<div>\n",
       "<style scoped>\n",
       "    .dataframe tbody tr th:only-of-type {\n",
       "        vertical-align: middle;\n",
       "    }\n",
       "\n",
       "    .dataframe tbody tr th {\n",
       "        vertical-align: top;\n",
       "    }\n",
       "\n",
       "    .dataframe thead th {\n",
       "        text-align: right;\n",
       "    }\n",
       "</style>\n",
       "<table border=\"1\" class=\"dataframe\">\n",
       "  <thead>\n",
       "    <tr style=\"text-align: right;\">\n",
       "      <th></th>\n",
       "      <th>userID</th>\n",
       "      <th>Track</th>\n",
       "      <th>artist</th>\n",
       "      <th>genre</th>\n",
       "      <th>City</th>\n",
       "      <th>time</th>\n",
       "      <th>Day</th>\n",
       "    </tr>\n",
       "  </thead>\n",
       "  <tbody>\n",
       "    <tr>\n",
       "      <th>0</th>\n",
       "      <td>FFB692EC</td>\n",
       "      <td>Kamigata To Boots</td>\n",
       "      <td>The Mass Missile</td>\n",
       "      <td>rock</td>\n",
       "      <td>Shelbyville</td>\n",
       "      <td>20:28:33</td>\n",
       "      <td>Wednesday</td>\n",
       "    </tr>\n",
       "    <tr>\n",
       "      <th>1</th>\n",
       "      <td>55204538</td>\n",
       "      <td>Delayed Because of Accident</td>\n",
       "      <td>Andreas Rönnberg</td>\n",
       "      <td>rock</td>\n",
       "      <td>Springfield</td>\n",
       "      <td>14:07:09</td>\n",
       "      <td>Friday</td>\n",
       "    </tr>\n",
       "    <tr>\n",
       "      <th>2</th>\n",
       "      <td>20EC38</td>\n",
       "      <td>Funiculì funiculà</td>\n",
       "      <td>Mario Lanza</td>\n",
       "      <td>pop</td>\n",
       "      <td>Shelbyville</td>\n",
       "      <td>20:58:07</td>\n",
       "      <td>Wednesday</td>\n",
       "    </tr>\n",
       "    <tr>\n",
       "      <th>3</th>\n",
       "      <td>A3DD03C9</td>\n",
       "      <td>Dragons in the Sunset</td>\n",
       "      <td>Fire + Ice</td>\n",
       "      <td>folk</td>\n",
       "      <td>Shelbyville</td>\n",
       "      <td>08:37:09</td>\n",
       "      <td>Monday</td>\n",
       "    </tr>\n",
       "    <tr>\n",
       "      <th>4</th>\n",
       "      <td>E2DC1FAE</td>\n",
       "      <td>Soul People</td>\n",
       "      <td>Space Echo</td>\n",
       "      <td>dance</td>\n",
       "      <td>Springfield</td>\n",
       "      <td>08:34:34</td>\n",
       "      <td>Monday</td>\n",
       "    </tr>\n",
       "    <tr>\n",
       "      <th>5</th>\n",
       "      <td>842029A1</td>\n",
       "      <td>Chains</td>\n",
       "      <td>Obladaet</td>\n",
       "      <td>rusrap</td>\n",
       "      <td>Shelbyville</td>\n",
       "      <td>13:09:41</td>\n",
       "      <td>Friday</td>\n",
       "    </tr>\n",
       "    <tr>\n",
       "      <th>6</th>\n",
       "      <td>4CB90AA5</td>\n",
       "      <td>True</td>\n",
       "      <td>Roman Messer</td>\n",
       "      <td>dance</td>\n",
       "      <td>Springfield</td>\n",
       "      <td>13:00:07</td>\n",
       "      <td>Wednesday</td>\n",
       "    </tr>\n",
       "    <tr>\n",
       "      <th>7</th>\n",
       "      <td>F03E1C1F</td>\n",
       "      <td>Feeling This Way</td>\n",
       "      <td>Polina Griffith</td>\n",
       "      <td>dance</td>\n",
       "      <td>Springfield</td>\n",
       "      <td>20:47:49</td>\n",
       "      <td>Wednesday</td>\n",
       "    </tr>\n",
       "    <tr>\n",
       "      <th>8</th>\n",
       "      <td>8FA1D3BE</td>\n",
       "      <td>L’estate</td>\n",
       "      <td>Julia Dalia</td>\n",
       "      <td>ruspop</td>\n",
       "      <td>Springfield</td>\n",
       "      <td>09:17:40</td>\n",
       "      <td>Friday</td>\n",
       "    </tr>\n",
       "    <tr>\n",
       "      <th>9</th>\n",
       "      <td>E772D5C0</td>\n",
       "      <td>Pessimist</td>\n",
       "      <td>NaN</td>\n",
       "      <td>dance</td>\n",
       "      <td>Shelbyville</td>\n",
       "      <td>21:20:49</td>\n",
       "      <td>Wednesday</td>\n",
       "    </tr>\n",
       "  </tbody>\n",
       "</table>\n",
       "</div>"
      ],
      "text/plain": [
       "     userID                        Track            artist   genre  \\\n",
       "0  FFB692EC            Kamigata To Boots  The Mass Missile    rock   \n",
       "1  55204538  Delayed Because of Accident  Andreas Rönnberg    rock   \n",
       "2    20EC38            Funiculì funiculà       Mario Lanza     pop   \n",
       "3  A3DD03C9        Dragons in the Sunset        Fire + Ice    folk   \n",
       "4  E2DC1FAE                  Soul People        Space Echo   dance   \n",
       "5  842029A1                       Chains          Obladaet  rusrap   \n",
       "6  4CB90AA5                         True      Roman Messer   dance   \n",
       "7  F03E1C1F             Feeling This Way   Polina Griffith   dance   \n",
       "8  8FA1D3BE                     L’estate       Julia Dalia  ruspop   \n",
       "9  E772D5C0                    Pessimist               NaN   dance   \n",
       "\n",
       "        City        time        Day  \n",
       "0  Shelbyville  20:28:33  Wednesday  \n",
       "1  Springfield  14:07:09     Friday  \n",
       "2  Shelbyville  20:58:07  Wednesday  \n",
       "3  Shelbyville  08:37:09     Monday  \n",
       "4  Springfield  08:34:34     Monday  \n",
       "5  Shelbyville  13:09:41     Friday  \n",
       "6  Springfield  13:00:07  Wednesday  \n",
       "7  Springfield  20:47:49  Wednesday  \n",
       "8  Springfield  09:17:40     Friday  \n",
       "9  Shelbyville  21:20:49  Wednesday  "
      ]
     },
     "execution_count": 3,
     "metadata": {},
     "output_type": "execute_result"
    }
   ],
   "source": [
    "# Obtener las 10 primeras filas de la tabla df\n",
    "df.head(10)"
   ]
  },
  {
   "cell_type": "markdown",
   "metadata": {
    "id": "EO73Kwic_Zct"
   },
   "source": [
    "Obtén la información general sobre la tabla con un comando. Conoces el método que muestra la información general que necesitamos."
   ]
  },
  {
   "cell_type": "code",
   "execution_count": 4,
   "metadata": {
    "id": "DSf2kIb-_Zct"
   },
   "outputs": [
    {
     "name": "stdout",
     "output_type": "stream",
     "text": [
      "<class 'pandas.core.frame.DataFrame'>\n",
      "RangeIndex: 65079 entries, 0 to 65078\n",
      "Data columns (total 7 columns):\n",
      " #   Column    Non-Null Count  Dtype \n",
      "---  ------    --------------  ----- \n",
      " 0     userID  65079 non-null  object\n",
      " 1   Track     63736 non-null  object\n",
      " 2   artist    57512 non-null  object\n",
      " 3   genre     63881 non-null  object\n",
      " 4     City    65079 non-null  object\n",
      " 5   time      65079 non-null  object\n",
      " 6   Day       65079 non-null  object\n",
      "dtypes: object(7)\n",
      "memory usage: 3.5+ MB\n",
      "None\n"
     ]
    }
   ],
   "source": [
    "# Obtener la información general sobre nuestros datos\n",
    "print(df.info())"
   ]
  },
  {
   "cell_type": "markdown",
   "metadata": {
    "id": "TaQ2Iwbr_Zct"
   },
   "source": [
    "Estas son nuestras observaciones sobre la tabla. Contiene siete columnas. Almacenan los mismos tipos de datos: `object`.\n",
    "\n",
    "Según la documentación:\n",
    "- `' userID'`: identificador del usuario o la usuaria;\n",
    "- `'Track'`: título de la canción;\n",
    "- `'artist'`: nombre del artista;\n",
    "- `'genre'`: género de la pista;\n",
    "- `'City'`: ciudad del usuario o la usuaria;\n",
    "- `'time'`: la hora exacta en la que se reprodujo la canción;\n",
    "- `'Day'`: día de la semana.\n",
    "\n",
    "Podemos ver tres problemas con el estilo en los encabezados de la tabla:\n",
    "1. Algunos encabezados están en mayúsculas, otros en minúsculas.\n",
    "2. Hay espacios en algunos encabezados.\n",
    "3. `Detecta el tercer problema por tu cuenta y descríbelo aquí`.\n",
    "    Se tiene varias celdas con valores ausentes \"non-null\"\n",
    "\n"
   ]
  },
  {
   "cell_type": "markdown",
   "metadata": {
    "id": "MCB6-dXG_Zct"
   },
   "source": [
    "### Escribe observaciones de tu parte. Estas son algunas de las preguntas que pueden ser útiles: <a id='data_review_conclusions'></a>\n",
    "\n",
    "`1.   ¿Qué tipo de datos tenemos a nuestra disposición en las filas? ¿Y cómo podemos entender lo que almacenan las columnas?`\n",
    "Las filas nos muestran información de los usuarios ; y podemos entender la información de las columnas en los encabezados.\n",
    "`2.   ¿Hay suficientes datos para proporcionar respuestas a nuestra hipótesis o necesitamos más información?`\n",
    "Se tiene información incompleta debido a que hay varias celdas con valores ausentes.\n",
    "`3.   ¿Notaste algún problema en los datos, como valores ausentes, duplicados o tipos de datos incorrectos?`\n",
    "Si, en los encabezados algunos tienen espacios y están en mayúsculas y minúsculas."
   ]
  },
  {
   "cell_type": "markdown",
   "metadata": {
    "id": "3eL__vcwViOi"
   },
   "source": [
    "[Volver a Contenidos](#back)"
   ]
  },
  {
   "cell_type": "markdown",
   "metadata": {
    "id": "SjYF6Ub9_Zct"
   },
   "source": [
    "## Etapa 2. Preprocesamiento de datos <a id='data_preprocessing'></a>\n",
    "\n",
    "El objetivo aquí es preparar los datos para que sean analizados.\n",
    "El primer paso es resolver cualquier problema con los encabezados. Luego podemos avanzar a los valores ausentes y duplicados. Empecemos.\n",
    "\n",
    "Corrige el formato en los encabezados de la tabla.\n"
   ]
  },
  {
   "cell_type": "markdown",
   "metadata": {
    "id": "dIaKXr29_Zct"
   },
   "source": [
    "### Estilo del encabezado <a id='header_style'></a>\n",
    "Muestra los encabezados de la tabla (los nombres de las columnas):"
   ]
  },
  {
   "cell_type": "code",
   "execution_count": 5,
   "metadata": {
    "id": "oKOTdF_Q_Zct"
   },
   "outputs": [
    {
     "name": "stdout",
     "output_type": "stream",
     "text": [
      "Index(['  userID', 'Track', 'artist', 'genre', '  City  ', 'time', 'Day'], dtype='object')\n"
     ]
    }
   ],
   "source": [
    "# Muestra los nombres de las columnas\n",
    "print(df.columns)"
   ]
  },
  {
   "cell_type": "markdown",
   "metadata": {
    "id": "zj5534cv_Zct"
   },
   "source": [
    "Cambia los encabezados de la tabla de acuerdo con las reglas del buen estilo:\n",
    "* Todos los caracteres deben ser minúsculas.\n",
    "* Elimina los espacios.\n",
    "* Si el nombre tiene varias palabras, utiliza snake_case."
   ]
  },
  {
   "cell_type": "markdown",
   "metadata": {
    "id": "Xu0zkfe5zNJe"
   },
   "source": [
    "Anteriormente, aprendiste acerca de la forma automática de cambiar el nombre de las columnas. Vamos a aplicarla ahora. Utiliza el bucle for para iterar sobre los nombres de las columnas y poner todos los caracteres en minúsculas. Cuando hayas terminado, vuelve a mostrar los encabezados de la tabla:"
   ]
  },
  {
   "cell_type": "code",
   "execution_count": 6,
   "metadata": {
    "id": "6I_RwwMhzM4e"
   },
   "outputs": [
    {
     "name": "stdout",
     "output_type": "stream",
     "text": [
      "Index(['  userid', 'track', 'artist', 'genre', '  city  ', 'time', 'day'], dtype='object')\n"
     ]
    }
   ],
   "source": [
    "# Bucle en los encabezados poniendo todo en minúsculas\n",
    "new_col_names = []\n",
    "for old_names in df.columns:\n",
    "    name_lowered = old_names.lower()\n",
    "    new_col_names.append(name_lowered)\n",
    "        \n",
    "df.columns = new_col_names\n",
    "print(df.columns)"
   ]
  },
  {
   "cell_type": "markdown",
   "metadata": {
    "id": "pweIRxjSzPYW"
   },
   "source": [
    "Ahora, utilizando el mismo método, elimina los espacios al principio y al final de los nombres de las columnas e imprime los nombres de las columnas nuevamente:"
   ]
  },
  {
   "cell_type": "code",
   "execution_count": 7,
   "metadata": {
    "id": "vVQXbFyJzSYl"
   },
   "outputs": [
    {
     "name": "stdout",
     "output_type": "stream",
     "text": [
      "Index(['userid', 'track', 'artist', 'genre', 'city', 'time', 'day'], dtype='object')\n"
     ]
    }
   ],
   "source": [
    "# Bucle en los encabezados eliminando los espacios\n",
    "new_columns = []\n",
    "for old_names in df.columns:\n",
    "    name_stripped= old_names.strip()\n",
    "    new_columns.append(name_stripped)\n",
    "df.columns = new_columns\n",
    "print(df.columns)\n"
   ]
  },
  {
   "cell_type": "markdown",
   "metadata": {
    "id": "yCb8MW1JzURd"
   },
   "source": [
    "Necesitamos aplicar la regla de snake_case a la columna `userid`. Debe ser `user_id`. Cambia el nombre de esta columna y muestra los nombres de todas las columnas cuando hayas terminado."
   ]
  },
  {
   "cell_type": "code",
   "execution_count": 8,
   "metadata": {
    "id": "ISlFqs5y_Zct"
   },
   "outputs": [
    {
     "name": "stdout",
     "output_type": "stream",
     "text": [
      "Index(['user_id', 'track', 'artist', 'genre', 'city', 'time', 'day'], dtype='object')\n"
     ]
    }
   ],
   "source": [
    "# Cambiar el nombre de la columna \"userid\"\n",
    "df.rename(columns = {\"userid\":\"user_id\"},inplace=True)\n",
    "print(df.columns)"
   ]
  },
  {
   "cell_type": "markdown",
   "metadata": {
    "id": "1dqbh00J_Zct"
   },
   "source": [
    "Comprueba el resultado. Muestra los encabezados una vez más:"
   ]
  },
  {
   "cell_type": "code",
   "execution_count": 9,
   "metadata": {
    "id": "d4NOAmTW_Zct"
   },
   "outputs": [
    {
     "name": "stdout",
     "output_type": "stream",
     "text": [
      "Index(['user_id', 'track', 'artist', 'genre', 'city', 'time', 'day'], dtype='object')\n"
     ]
    }
   ],
   "source": [
    "# Comprobar el resultado: la lista de encabezados\n",
    "print(df.columns)"
   ]
  },
  {
   "cell_type": "markdown",
   "metadata": {
    "id": "xYJk6ksJVpOl"
   },
   "source": [
    "[Volver a Contenidos](#back)"
   ]
  },
  {
   "cell_type": "markdown",
   "metadata": {
    "id": "5ISfbcfY_Zct"
   },
   "source": [
    "### Valores ausentes <a id='missing_values'></a>\n",
    " Primero, encuentra el número de valores ausentes en la tabla. Debes utilizar dos métodos en una secuencia para obtener el número de valores ausentes."
   ]
  },
  {
   "cell_type": "code",
   "execution_count": 10,
   "metadata": {
    "id": "RskX29qr_Zct"
   },
   "outputs": [
    {
     "data": {
      "text/plain": [
       "user_id       0\n",
       "track      1343\n",
       "artist     7567\n",
       "genre      1198\n",
       "city          0\n",
       "time          0\n",
       "day           0\n",
       "dtype: int64"
      ]
     },
     "execution_count": 10,
     "metadata": {},
     "output_type": "execute_result"
    }
   ],
   "source": [
    "# Calcular el número de valores ausentes\n",
    "df.isna().sum()"
   ]
  },
  {
   "cell_type": "markdown",
   "metadata": {
    "id": "qubhgnlO_Zct"
   },
   "source": [
    "No todos los valores ausentes afectan a la investigación. Por ejemplo, los valores ausentes en `track` y `artist` no son cruciales. Simplemente puedes reemplazarlos con valores predeterminados como el string `'unknown'` (desconocido).\n",
    "\n",
    "Pero los valores ausentes en `'genre'` pueden afectar la comparación entre las preferencias musicales de Springfield y Shelbyville. En la vida real, sería útil saber las razones por las cuales hay datos ausentes e intentar recuperarlos. Pero no tenemos esa oportunidad en este proyecto. Así que tendrás que:\n",
    "* rellenar estos valores ausentes con un valor predeterminado;\n",
    "* evaluar cuánto podrían afectar los valores ausentes a tus cómputos;"
   ]
  },
  {
   "cell_type": "markdown",
   "metadata": {
    "id": "fSv2laPA_Zct"
   },
   "source": [
    "Reemplazar los valores ausentes en las columnas `'track'`, `'artist'` y `'genre'` con el string `'unknown'`. Como mostramos anteriormente en las lecciones, la mejor forma de hacerlo es crear una lista que almacene los nombres de las columnas donde se necesita el reemplazo. Luego, utiliza esta lista e itera sobre las columnas donde se necesita el reemplazo haciendo el propio reemplazo."
   ]
  },
  {
   "cell_type": "code",
   "execution_count": 11,
   "metadata": {
    "id": "KplB5qWs_Zct"
   },
   "outputs": [
    {
     "name": "stderr",
     "output_type": "stream",
     "text": [
      "C:\\Users\\Home\\AppData\\Local\\Temp\\ipykernel_12760\\2930083350.py:4: FutureWarning: A value is trying to be set on a copy of a DataFrame or Series through chained assignment using an inplace method.\n",
      "The behavior will change in pandas 3.0. This inplace method will never work because the intermediate object on which we are setting values always behaves as a copy.\n",
      "\n",
      "For example, when doing 'df[col].method(value, inplace=True)', try using 'df.method({col: value}, inplace=True)' or df[col] = df[col].method(value) instead, to perform the operation inplace on the original object.\n",
      "\n",
      "\n",
      "  df[col].fillna(\"unknow\",inplace=True)\n"
     ]
    },
    {
     "data": {
      "text/plain": [
       "user_id    0\n",
       "track      0\n",
       "artist     0\n",
       "genre      0\n",
       "city       0\n",
       "time       0\n",
       "day        0\n",
       "dtype: int64"
      ]
     },
     "execution_count": 11,
     "metadata": {},
     "output_type": "execute_result"
    }
   ],
   "source": [
    "# Bucle en los encabezados reemplazando los valores ausentes con 'unknown'\n",
    "columns_to_replace = [\"track\",\"artist\",\"genre\"]\n",
    "for col in columns_to_replace:\n",
    "    df[col].fillna(\"unknow\",inplace=True)\n",
    "    \n",
    "df.isna().sum()"
   ]
  },
  {
   "cell_type": "markdown",
   "metadata": {
    "id": "Ilsm-MZo_Zct"
   },
   "source": [
    "Ahora comprueba el resultado para asegurarte de que después del reemplazo no haya valores ausentes en el conjunto de datos. Para hacer esto, cuenta los valores ausentes nuevamente."
   ]
  },
  {
   "cell_type": "code",
   "execution_count": 12,
   "metadata": {
    "id": "Tq4nYRX4_Zct"
   },
   "outputs": [
    {
     "data": {
      "text/plain": [
       "user_id    0\n",
       "track      0\n",
       "artist     0\n",
       "genre      0\n",
       "city       0\n",
       "time       0\n",
       "day        0\n",
       "dtype: int64"
      ]
     },
     "execution_count": 12,
     "metadata": {},
     "output_type": "execute_result"
    }
   ],
   "source": [
    "# Contar valores ausentes\n",
    "df.isna().sum()"
   ]
  },
  {
   "cell_type": "markdown",
   "metadata": {
    "id": "74ZIBmq9VrsK"
   },
   "source": [
    "[Volver a Contenidos](#back)"
   ]
  },
  {
   "cell_type": "markdown",
   "metadata": {
    "id": "BWKRtBJ3_Zct"
   },
   "source": [
    "### Duplicados <a id='duplicates'></a>\n",
    "Encuentra el número de duplicados explícitos en la tabla. Una vez más, debes aplicar dos métodos en una secuencia para obtener la cantidad de duplicados explícitos."
   ]
  },
  {
   "cell_type": "code",
   "execution_count": 13,
   "metadata": {
    "id": "36eES_S0_Zct"
   },
   "outputs": [
    {
     "name": "stdout",
     "output_type": "stream",
     "text": [
      "3826\n"
     ]
    }
   ],
   "source": [
    "# Contar duplicados explícitos\n",
    "print(df.duplicated().sum())"
   ]
  },
  {
   "cell_type": "markdown",
   "metadata": {
    "id": "Ot25h6XR_Zct"
   },
   "source": [
    "Ahora, elimina todos los duplicados. Para ello, llama al método que hace exactamente esto."
   ]
  },
  {
   "cell_type": "code",
   "execution_count": null,
   "metadata": {
    "id": "exFHq6tt_Zct"
   },
   "outputs": [
    {
     "data": {
      "text/html": [
       "<div>\n",
       "<style scoped>\n",
       "    .dataframe tbody tr th:only-of-type {\n",
       "        vertical-align: middle;\n",
       "    }\n",
       "\n",
       "    .dataframe tbody tr th {\n",
       "        vertical-align: top;\n",
       "    }\n",
       "\n",
       "    .dataframe thead th {\n",
       "        text-align: right;\n",
       "    }\n",
       "</style>\n",
       "<table border=\"1\" class=\"dataframe\">\n",
       "  <thead>\n",
       "    <tr style=\"text-align: right;\">\n",
       "      <th></th>\n",
       "      <th>user_id</th>\n",
       "      <th>track</th>\n",
       "      <th>artist</th>\n",
       "      <th>genre</th>\n",
       "      <th>city</th>\n",
       "      <th>time</th>\n",
       "      <th>day</th>\n",
       "    </tr>\n",
       "  </thead>\n",
       "  <tbody>\n",
       "    <tr>\n",
       "      <th>0</th>\n",
       "      <td>FFB692EC</td>\n",
       "      <td>Kamigata To Boots</td>\n",
       "      <td>The Mass Missile</td>\n",
       "      <td>rock</td>\n",
       "      <td>Shelbyville</td>\n",
       "      <td>20:28:33</td>\n",
       "      <td>Wednesday</td>\n",
       "    </tr>\n",
       "    <tr>\n",
       "      <th>1</th>\n",
       "      <td>55204538</td>\n",
       "      <td>Delayed Because of Accident</td>\n",
       "      <td>Andreas Rönnberg</td>\n",
       "      <td>rock</td>\n",
       "      <td>Springfield</td>\n",
       "      <td>14:07:09</td>\n",
       "      <td>Friday</td>\n",
       "    </tr>\n",
       "    <tr>\n",
       "      <th>2</th>\n",
       "      <td>20EC38</td>\n",
       "      <td>Funiculì funiculà</td>\n",
       "      <td>Mario Lanza</td>\n",
       "      <td>pop</td>\n",
       "      <td>Shelbyville</td>\n",
       "      <td>20:58:07</td>\n",
       "      <td>Wednesday</td>\n",
       "    </tr>\n",
       "    <tr>\n",
       "      <th>3</th>\n",
       "      <td>A3DD03C9</td>\n",
       "      <td>Dragons in the Sunset</td>\n",
       "      <td>Fire + Ice</td>\n",
       "      <td>folk</td>\n",
       "      <td>Shelbyville</td>\n",
       "      <td>08:37:09</td>\n",
       "      <td>Monday</td>\n",
       "    </tr>\n",
       "    <tr>\n",
       "      <th>4</th>\n",
       "      <td>E2DC1FAE</td>\n",
       "      <td>Soul People</td>\n",
       "      <td>Space Echo</td>\n",
       "      <td>dance</td>\n",
       "      <td>Springfield</td>\n",
       "      <td>08:34:34</td>\n",
       "      <td>Monday</td>\n",
       "    </tr>\n",
       "    <tr>\n",
       "      <th>...</th>\n",
       "      <td>...</td>\n",
       "      <td>...</td>\n",
       "      <td>...</td>\n",
       "      <td>...</td>\n",
       "      <td>...</td>\n",
       "      <td>...</td>\n",
       "      <td>...</td>\n",
       "    </tr>\n",
       "    <tr>\n",
       "      <th>61248</th>\n",
       "      <td>729CBB09</td>\n",
       "      <td>My Name</td>\n",
       "      <td>McLean</td>\n",
       "      <td>rnb</td>\n",
       "      <td>Springfield</td>\n",
       "      <td>13:32:28</td>\n",
       "      <td>Wednesday</td>\n",
       "    </tr>\n",
       "    <tr>\n",
       "      <th>61249</th>\n",
       "      <td>D08D4A55</td>\n",
       "      <td>Maybe One Day (feat. Black Spade)</td>\n",
       "      <td>Blu &amp; Exile</td>\n",
       "      <td>hip</td>\n",
       "      <td>Shelbyville</td>\n",
       "      <td>10:00:00</td>\n",
       "      <td>Monday</td>\n",
       "    </tr>\n",
       "    <tr>\n",
       "      <th>61250</th>\n",
       "      <td>C5E3A0D5</td>\n",
       "      <td>Jalopiina</td>\n",
       "      <td>unknow</td>\n",
       "      <td>industrial</td>\n",
       "      <td>Springfield</td>\n",
       "      <td>20:09:26</td>\n",
       "      <td>Friday</td>\n",
       "    </tr>\n",
       "    <tr>\n",
       "      <th>61251</th>\n",
       "      <td>321D0506</td>\n",
       "      <td>Freight Train</td>\n",
       "      <td>Chas McDevitt</td>\n",
       "      <td>rock</td>\n",
       "      <td>Springfield</td>\n",
       "      <td>21:43:59</td>\n",
       "      <td>Friday</td>\n",
       "    </tr>\n",
       "    <tr>\n",
       "      <th>61252</th>\n",
       "      <td>3A64EF84</td>\n",
       "      <td>Tell Me Sweet Little Lies</td>\n",
       "      <td>Monica Lopez</td>\n",
       "      <td>country</td>\n",
       "      <td>Springfield</td>\n",
       "      <td>21:59:46</td>\n",
       "      <td>Friday</td>\n",
       "    </tr>\n",
       "  </tbody>\n",
       "</table>\n",
       "<p>61253 rows × 7 columns</p>\n",
       "</div>"
      ],
      "text/plain": [
       "        user_id                              track            artist  \\\n",
       "0      FFB692EC                  Kamigata To Boots  The Mass Missile   \n",
       "1      55204538        Delayed Because of Accident  Andreas Rönnberg   \n",
       "2        20EC38                  Funiculì funiculà       Mario Lanza   \n",
       "3      A3DD03C9              Dragons in the Sunset        Fire + Ice   \n",
       "4      E2DC1FAE                        Soul People        Space Echo   \n",
       "...         ...                                ...               ...   \n",
       "61248  729CBB09                            My Name            McLean   \n",
       "61249  D08D4A55  Maybe One Day (feat. Black Spade)       Blu & Exile   \n",
       "61250  C5E3A0D5                          Jalopiina            unknow   \n",
       "61251  321D0506                      Freight Train     Chas McDevitt   \n",
       "61252  3A64EF84          Tell Me Sweet Little Lies      Monica Lopez   \n",
       "\n",
       "            genre         city      time        day  \n",
       "0            rock  Shelbyville  20:28:33  Wednesday  \n",
       "1            rock  Springfield  14:07:09     Friday  \n",
       "2             pop  Shelbyville  20:58:07  Wednesday  \n",
       "3            folk  Shelbyville  08:37:09     Monday  \n",
       "4           dance  Springfield  08:34:34     Monday  \n",
       "...           ...          ...       ...        ...  \n",
       "61248         rnb  Springfield  13:32:28  Wednesday  \n",
       "61249         hip  Shelbyville  10:00:00     Monday  \n",
       "61250  industrial  Springfield  20:09:26     Friday  \n",
       "61251        rock  Springfield  21:43:59     Friday  \n",
       "61252     country  Springfield  21:59:46     Friday  \n",
       "\n",
       "[61253 rows x 7 columns]"
      ]
     },
     "execution_count": 14,
     "metadata": {},
     "output_type": "execute_result"
    }
   ],
   "source": [
    "# Eliminar duplicados explícitos\n",
    "df.drop_duplicates().reset_index(drop=True)\n"
   ]
  },
  {
   "cell_type": "markdown",
   "metadata": {
    "id": "Im2YwBEG_Zct"
   },
   "source": [
    "Comprobemos ahora si eliminamos con éxito todos los duplicados. Cuenta los duplicados explícitos una vez más para asegurarte de haberlos eliminado todos:"
   ]
  },
  {
   "cell_type": "code",
   "execution_count": 15,
   "metadata": {
    "id": "-8PuNWQ0_Zct"
   },
   "outputs": [
    {
     "name": "stdout",
     "output_type": "stream",
     "text": [
      "3826\n"
     ]
    }
   ],
   "source": [
    "# Comprobar de nuevo si hay duplicados\n",
    "print(df.duplicated().sum())\n"
   ]
  },
  {
   "cell_type": "markdown",
   "metadata": {
    "id": "QlFBsxAr_Zct"
   },
   "source": [
    "Ahora queremos deshacernos de los duplicados implícitos en la columna `genre`. Por ejemplo, el nombre de un género se puede escribir de varias formas. Dichos errores también pueden afectar al resultado."
   ]
  },
  {
   "cell_type": "markdown",
   "metadata": {
    "id": "eSjWwsOh_Zct"
   },
   "source": [
    "Para hacerlo, primero mostremos una lista de nombres de género únicos, ordenados en orden alfabético. Para ello:\n",
    "* Extrae la columna `genre` del DataFrame.\n",
    "* Llama al método que devolverá todos los valores únicos en la columna extraída.\n"
   ]
  },
  {
   "cell_type": "code",
   "execution_count": 16,
   "metadata": {
    "id": "JIUcqzZN_Zct"
   },
   "outputs": [
    {
     "name": "stdout",
     "output_type": "stream",
     "text": [
      "['acid' 'acoustic' 'action' 'adult' 'africa' 'afrikaans' 'alternative'\n",
      " 'ambient' 'americana' 'animated' 'anime' 'arabesk' 'arabic' 'arena'\n",
      " 'argentinetango' 'art' 'audiobook' 'avantgarde' 'axé' 'baile' 'balkan'\n",
      " 'beats' 'bigroom' 'black' 'bluegrass' 'blues' 'bollywood' 'bossa'\n",
      " 'brazilian' 'breakbeat' 'breaks' 'broadway' 'cantautori' 'cantopop'\n",
      " 'canzone' 'caribbean' 'caucasian' 'celtic' 'chamber' 'children' 'chill'\n",
      " 'chinese' 'choral' 'christian' 'christmas' 'classical' 'classicmetal'\n",
      " 'club' 'colombian' 'comedy' 'conjazz' 'contemporary' 'country' 'cuban'\n",
      " 'dance' 'dancehall' 'dancepop' 'dark' 'death' 'deep' 'deutschrock'\n",
      " 'deutschspr' 'dirty' 'disco' 'dnb' 'documentary' 'downbeat' 'downtempo'\n",
      " 'drum' 'dub' 'dubstep' 'eastern' 'easy' 'electronic' 'electropop' 'emo'\n",
      " 'entehno' 'epicmetal' 'estrada' 'ethnic' 'eurofolk' 'european'\n",
      " 'experimental' 'extrememetal' 'fado' 'film' 'fitness' 'flamenco' 'folk'\n",
      " 'folklore' 'folkmetal' 'folkrock' 'folktronica' 'forró' 'frankreich'\n",
      " 'französisch' 'french' 'funk' 'future' 'gangsta' 'garage' 'german'\n",
      " 'ghazal' 'gitarre' 'glitch' 'gospel' 'gothic' 'grime' 'grunge' 'gypsy'\n",
      " 'handsup' \"hard'n'heavy\" 'hardcore' 'hardstyle' 'hardtechno' 'hip'\n",
      " 'hip-hop' 'hiphop' 'historisch' 'holiday' 'hop' 'horror' 'house' 'idm'\n",
      " 'independent' 'indian' 'indie' 'indipop' 'industrial' 'inspirational'\n",
      " 'instrumental' 'international' 'irish' 'jam' 'japanese' 'jazz' 'jewish'\n",
      " 'jpop' 'jungle' 'k-pop' 'karadeniz' 'karaoke' 'kayokyoku' 'korean'\n",
      " 'laiko' 'latin' 'latino' 'leftfield' 'local' 'lounge' 'loungeelectronic'\n",
      " 'lovers' 'malaysian' 'mandopop' 'marschmusik' 'meditative'\n",
      " 'mediterranean' 'melodic' 'metal' 'metalcore' 'mexican' 'middle'\n",
      " 'minimal' 'miscellaneous' 'modern' 'mood' 'mpb' 'muslim' 'native'\n",
      " 'neoklassik' 'neue' 'new' 'newage' 'newwave' 'nu' 'nujazz' 'numetal'\n",
      " 'oceania' 'old' 'opera' 'orchestral' 'other' 'piano' 'pop'\n",
      " 'popelectronic' 'popeurodance' 'post' 'posthardcore' 'postrock' 'power'\n",
      " 'progmetal' 'progressive' 'psychedelic' 'punjabi' 'punk' 'quebecois'\n",
      " 'ragga' 'ram' 'rancheras' 'rap' 'rave' 'reggae' 'reggaeton' 'regional'\n",
      " 'relax' 'religious' 'retro' 'rhythm' 'rnb' 'rnr' 'rock' 'rockabilly'\n",
      " 'romance' 'roots' 'ruspop' 'rusrap' 'rusrock' 'salsa' 'samba' 'schlager'\n",
      " 'self' 'sertanejo' 'shoegazing' 'showtunes' 'singer' 'ska' 'slow'\n",
      " 'smooth' 'soul' 'soulful' 'sound' 'soundtrack' 'southern' 'specialty'\n",
      " 'speech' 'spiritual' 'sport' 'stonerrock' 'surf' 'swing' 'synthpop'\n",
      " 'sängerportrait' 'tango' 'tanzorchester' 'taraftar' 'tech' 'techno'\n",
      " 'thrash' 'top' 'traditional' 'tradjazz' 'trance' 'tribal' 'trip'\n",
      " 'triphop' 'tropical' 'türk' 'türkçe' 'unknow' 'urban' 'uzbek' 'variété'\n",
      " 'vi' 'videogame' 'vocal' 'western' 'world' 'worldbeat' 'ïîï']\n"
     ]
    }
   ],
   "source": [
    "# Inspeccionar los nombres de géneros únicos\n",
    "# Se aplicó método sort ()\n",
    "genre = df['genre'].unique()\n",
    "genre.sort()\n",
    "print(genre)\n"
   ]
  },
  {
   "cell_type": "markdown",
   "metadata": {
    "id": "qej-Qmuo_Zct"
   },
   "source": [
    "Busca en la lista para encontrar duplicados implícitos del género `hiphop`. Estos pueden ser nombres escritos incorrectamente o nombres alternativos para el mismo género.\n",
    "\n",
    "Verás los siguientes duplicados implícitos:\n",
    "* `hip`\n",
    "* `hop`\n",
    "* `hip-hop`\n",
    "\n",
    "Para deshacerte de ellos, crea una función llamada `replace_wrong_genres()` con dos parámetros:\n",
    "* `wrong_genres=`: esta es una lista que contiene todos los valores que necesitas reemplazar.\n",
    "* `correct_genre=`: este es un string que vas a utilizar como reemplazo.\n",
    "\n",
    "Como resultado, la función debería corregir los nombres en la columna `'genre'` de la tabla `df`, es decir, remplazar cada valor de la lista `wrong_genres` por el valor en `correct_genre`.\n",
    "\n",
    "Dentro del cuerpo de la función, utiliza un bucle `'for'` para iterar sobre la lista de géneros incorrectos, extrae la columna `'genre'` y aplica el método `replace` para hacer correcciones."
   ]
  },
  {
   "cell_type": "code",
   "execution_count": 17,
   "metadata": {
    "id": "ErNDkmns_Zct"
   },
   "outputs": [],
   "source": [
    "# Función para reemplazar duplicados implícitos\n",
    "def replace_wrong_genres(df,column,wrong_genres,correct_genre):\n",
    "    for wrong_genre in wrong_genres:\n",
    "            df[column]=df[column].replace(wrong_genre,correct_genre)\n",
    "    return df"
   ]
  },
  {
   "cell_type": "markdown",
   "metadata": {
    "id": "aDoBJxbA_Zct"
   },
   "source": [
    "Ahora, llama a `replace_wrong_genres()` y pásale tales argumentos para que retire los duplicados implícitos (`hip`, `hop` y `hip-hop`) y los reemplace por `hiphop`:"
   ]
  },
  {
   "cell_type": "code",
   "execution_count": 18,
   "metadata": {
    "id": "YN5i2hpmSo09"
   },
   "outputs": [],
   "source": [
    "# Eliminar duplicados implícitos\n",
    "duplicates = [\"hip\",\"hop\",\"hip-hop\"]\n",
    "name=\"hiphop\"\n",
    "df=replace_wrong_genres(df,\"genre\",duplicates,name)"
   ]
  },
  {
   "cell_type": "markdown",
   "metadata": {
    "id": "zQKF16_RG15m"
   },
   "source": [
    "Asegúrate de que los nombres duplicados han sido eliminados. Muestra la lista de valores únicos de la columna `'genre'` una vez más:"
   ]
  },
  {
   "cell_type": "code",
   "execution_count": 19,
   "metadata": {
    "id": "wvixALnFG15m"
   },
   "outputs": [
    {
     "name": "stdout",
     "output_type": "stream",
     "text": [
      "['rock' 'pop' 'folk' 'dance' 'rusrap' 'ruspop' 'world' 'electronic'\n",
      " 'unknow' 'alternative' 'children' 'rnb' 'hiphop' 'jazz' 'postrock'\n",
      " 'latin' 'classical' 'metal' 'reggae' 'triphop' 'blues' 'instrumental'\n",
      " 'rusrock' 'dnb' 'türk' 'post' 'country' 'psychedelic' 'conjazz' 'indie'\n",
      " 'posthardcore' 'local' 'avantgarde' 'punk' 'videogame' 'techno' 'house'\n",
      " 'christmas' 'melodic' 'caucasian' 'reggaeton' 'soundtrack' 'singer' 'ska'\n",
      " 'salsa' 'ambient' 'film' 'western' 'rap' 'beats' \"hard'n'heavy\"\n",
      " 'progmetal' 'minimal' 'tropical' 'contemporary' 'new' 'soul' 'holiday'\n",
      " 'german' 'jpop' 'spiritual' 'urban' 'gospel' 'nujazz' 'folkmetal'\n",
      " 'trance' 'miscellaneous' 'anime' 'hardcore' 'progressive' 'korean'\n",
      " 'numetal' 'vocal' 'estrada' 'tango' 'loungeelectronic' 'classicmetal'\n",
      " 'dubstep' 'club' 'deep' 'southern' 'black' 'folkrock' 'fitness' 'french'\n",
      " 'disco' 'religious' 'drum' 'extrememetal' 'türkçe' 'experimental' 'easy'\n",
      " 'metalcore' 'modern' 'argentinetango' 'old' 'swing' 'breaks' 'eurofolk'\n",
      " 'stonerrock' 'industrial' 'funk' 'middle' 'variété' 'other' 'adult'\n",
      " 'christian' 'thrash' 'gothic' 'international' 'muslim' 'relax' 'schlager'\n",
      " 'caribbean' 'nu' 'breakbeat' 'comedy' 'chill' 'newage' 'specialty'\n",
      " 'uzbek' 'k-pop' 'balkan' 'chinese' 'meditative' 'dub' 'power' 'death'\n",
      " 'grime' 'arabesk' 'romance' 'flamenco' 'leftfield' 'european' 'tech'\n",
      " 'newwave' 'dancehall' 'mpb' 'piano' 'top' 'bigroom' 'opera' 'celtic'\n",
      " 'tradjazz' 'acoustic' 'epicmetal' 'historisch' 'downbeat' 'downtempo'\n",
      " 'africa' 'audiobook' 'jewish' 'sängerportrait' 'deutschrock' 'eastern'\n",
      " 'action' 'future' 'electropop' 'folklore' 'bollywood' 'marschmusik' 'rnr'\n",
      " 'karaoke' 'indian' 'rancheras' 'afrikaans' 'rhythm' 'sound' 'deutschspr'\n",
      " 'trip' 'lovers' 'choral' 'dancepop' 'retro' 'smooth' 'mexican'\n",
      " 'brazilian' 'ïîï' 'mood' 'surf' 'gangsta' 'inspirational' 'idm' 'ethnic'\n",
      " 'bluegrass' 'broadway' 'animated' 'americana' 'karadeniz' 'rockabilly'\n",
      " 'colombian' 'self' 'sertanejo' 'japanese' 'canzone' 'lounge' 'sport'\n",
      " 'ragga' 'traditional' 'gitarre' 'frankreich' 'emo' 'laiko' 'cantopop'\n",
      " 'glitch' 'documentary' 'oceania' 'popeurodance' 'dark' 'vi' 'grunge'\n",
      " 'hardstyle' 'samba' 'garage' 'art' 'folktronica' 'entehno'\n",
      " 'mediterranean' 'chamber' 'cuban' 'taraftar' 'gypsy' 'hardtechno'\n",
      " 'shoegazing' 'bossa' 'latino' 'worldbeat' 'malaysian' 'baile' 'ghazal'\n",
      " 'arabic' 'popelectronic' 'acid' 'kayokyoku' 'neoklassik' 'tribal'\n",
      " 'tanzorchester' 'native' 'independent' 'cantautori' 'handsup' 'punjabi'\n",
      " 'synthpop' 'rave' 'französisch' 'quebecois' 'speech' 'soulful' 'jam'\n",
      " 'ram' 'horror' 'orchestral' 'neue' 'roots' 'slow' 'jungle' 'indipop'\n",
      " 'axé' 'fado' 'showtunes' 'arena' 'irish' 'mandopop' 'forró' 'dirty'\n",
      " 'regional']\n"
     ]
    }
   ],
   "source": [
    "# Comprobación de duplicados implícitos\n",
    "print(df[\"genre\"].unique())"
   ]
  },
  {
   "cell_type": "markdown",
   "metadata": {
    "id": "ALgNbvF3VtPA"
   },
   "source": [
    "[Volver a Contenidos](#back)"
   ]
  },
  {
   "cell_type": "markdown",
   "metadata": {
    "id": "jz6a9-7HQUDd"
   },
   "source": [
    "### Tus observaciones <a id='data_preprocessing_conclusions'></a>\n",
    "\n",
    "`Describe brevemente lo que has notado al analizar duplicados, cómo abordaste sus eliminaciones y qué resultados obtuviste.`\n",
    "Se tiene varios elementos duplicados explícitos e implícitos, al abordar las eliminaciones nos permiten corregir los errores para poder procesar la información."
   ]
  },
  {
   "cell_type": "markdown",
   "metadata": {
    "id": "eK1es74rVujj"
   },
   "source": [
    "[Volver a Contenidos](#back)"
   ]
  },
  {
   "cell_type": "markdown",
   "metadata": {
    "id": "WttZHXH0SqKk"
   },
   "source": [
    "## Etapa 3. Prueba de hipótesis <a id='hypothesis'></a>"
   ]
  },
  {
   "cell_type": "markdown",
   "metadata": {
    "id": "Im936VVi_Zcu"
   },
   "source": [
    "### Hipótesis: comparar el comportamiento del usuario o la usuaria en las dos ciudades <a id='activity'></a>"
   ]
  },
  {
   "cell_type": "markdown",
   "metadata": {
    "id": "nwt_MuaL_Zcu"
   },
   "source": [
    "La hipótesis afirma que existen diferencias en la forma en que los usuarios y las usuarias de Springfield y Shelbyville consumen música. Para comprobar esto, usa los datos de tres días de la semana: lunes, miércoles y viernes.\n",
    "\n",
    "* Agrupa a los usuarios y las usuarias por ciudad.\n",
    "* Compara el número de canciones que cada grupo reprodujo el lunes, el miércoles y el viernes.\n"
   ]
  },
  {
   "cell_type": "markdown",
   "metadata": {
    "id": "8Dw_YMmT_Zcu"
   },
   "source": [
    "Realiza cada cálculo por separado.\n",
    "\n",
    "El primer paso es evaluar la actividad del usuario en cada ciudad. Recuerda las etapas dividir-aplicar-combinar de las que hablamos anteriormente en la lección. Tu objetivo ahora es agrupar los datos por ciudad, aplicar el método apropiado para contar durante la etapa de aplicación y luego encontrar la cantidad de canciones reproducidas en cada grupo especificando la columna para obtener el recuento.\n",
    "\n",
    "A continuación se muestra un ejemplo de cómo debería verse el resultado final:\n",
    "`df.groupby(by='....')['column'].method()`Realiza cada cálculo por separado.\n",
    "\n",
    "Para evaluar la actividad de los usuarios y las usuarias en cada ciudad, agrupa los datos por ciudad y encuentra la cantidad de canciones reproducidas en cada grupo.\n",
    "\n"
   ]
  },
  {
   "cell_type": "code",
   "execution_count": 20,
   "metadata": {
    "id": "0_Qs96oh_Zcu"
   },
   "outputs": [
    {
     "data": {
      "text/plain": [
       "city\n",
       "Shelbyville    19719\n",
       "Springfield    45360\n",
       "Name: day, dtype: int64"
      ]
     },
     "execution_count": 20,
     "metadata": {},
     "output_type": "execute_result"
    }
   ],
   "source": [
    "# Contar las canciones reproducidas en cada ciudad\n",
    "\n",
    "df.groupby(by=\"city\")[\"day\"].count()"
   ]
  },
  {
   "cell_type": "markdown",
   "metadata": {
    "id": "t_Qx-3NewAnK"
   },
   "source": [
    "`Comenta tus observaciones aquí`\n",
    "Se tiene que en la ciudad de Sprinfield hay más canciones reproducidas."
   ]
  },
  {
   "cell_type": "markdown",
   "metadata": {
    "id": "dzli3w8o_Zcu"
   },
   "source": [
    "Ahora agrupemos los datos por día de la semana y encontremos el número de canciones reproducidas el lunes, miércoles y viernes. Utiliza el mismo método que antes, pero ahora necesitamos una agrupación diferente.\n"
   ]
  },
  {
   "cell_type": "code",
   "execution_count": 21,
   "metadata": {
    "id": "uZMKjiJz_Zcu",
    "scrolled": true
   },
   "outputs": [
    {
     "name": "stdout",
     "output_type": "stream",
     "text": [
      "day\n",
      "Friday       23149\n",
      "Monday       22697\n",
      "Wednesday    19233\n",
      "Name: city, dtype: int64\n"
     ]
    }
   ],
   "source": [
    "# Calcular las canciones reproducidas en cada uno de los tres días\n",
    "# Se guardo resultado de la agrupación en una variable\n",
    "songs_day_city = df.groupby(by=\"day\")[\"city\"].count()\n",
    "print(songs_day_city)\n"
   ]
  },
  {
   "cell_type": "markdown",
   "metadata": {
    "id": "cC2tNrlL_Zcu"
   },
   "source": [
    "`Comenta tus observaciones aquí`\n",
    "Según el analisis por días , se tiene que los días friday y monday hay mayor número de reproducciones."
   ]
  },
  {
   "cell_type": "markdown",
   "metadata": {
    "id": "POzs8bGa_Zcu"
   },
   "source": [
    "Ya sabes cómo contar entradas agrupándolas por ciudad o día. Ahora necesitas escribir una función que pueda contar entradas según ambos criterios simultáneamente.\n",
    "\n",
    "Crea la función `number_tracks()` para calcular el número de canciones reproducidas en un determinado día **y** ciudad. La función debe aceptar dos parámetros:\n",
    "\n",
    "- `day`: un día de la semana para filtrar. Por ejemplo, `'Monday'` (lunes).\n",
    "- `city`: una ciudad para filtrar. Por ejemplo, `'Springfield'`.\n",
    "\n",
    "Dentro de la función, aplicarás un filtrado consecutivo con indexación lógica.\n",
    "\n",
    "Primero filtra los datos por día y luego filtra la tabla resultante por ciudad.\n",
    "\n",
    "Después de filtrar los datos por dos criterios, cuenta el número de valores de la columna 'user_id' en la tabla resultante. Este recuento representa el número de entradas que estás buscando. Guarda el resultado en una nueva variable y devuélvelo desde la función."
   ]
  },
  {
   "cell_type": "code",
   "execution_count": 22,
   "metadata": {
    "id": "Nz3GdQB1_Zcu"
   },
   "outputs": [],
   "source": [
    "# Declara la función number_tracks() con dos parámetros: day= y city=.\n",
    "def number_tracks(day,city):\n",
    "    # Almacena las filas del DataFrame donde el valor en la columna 'day' es igual al parámetro day=\n",
    "   \n",
    "    # Filtra las filas donde el valor en la columna 'city' es igual al parámetro city=\n",
    "    \n",
    "    data_filter = df[(df[\"day\"]==day) & (df[\"city\"] == city)]\n",
    "    # Extrae la columna 'user_id' de la tabla filtrada y aplica el método count()\n",
    "    canciones = data_filter[\"user_id\"].count()\n",
    "    # Devolve el número de valores de la columna 'user_id'\n",
    "    return canciones\n"
   ]
  },
  {
   "cell_type": "markdown",
   "metadata": {
    "id": "ytf7xFrFJQ2r"
   },
   "source": [
    "Llama a `number_tracks()` seis veces, cambiando los valores de los parámetros para que recuperes los datos de ambas ciudades para cada uno de los tres días."
   ]
  },
  {
   "cell_type": "code",
   "execution_count": 23,
   "metadata": {
    "id": "rJcRATNQ_Zcu"
   },
   "outputs": [
    {
     "name": "stdout",
     "output_type": "stream",
     "text": [
      "16715\n"
     ]
    }
   ],
   "source": [
    "# El número de canciones reproducidas en Springfield el lunes\n",
    "canciones_lunes = number_tracks(\"Monday\",\"Springfield\")\n",
    "print(canciones_lunes)"
   ]
  },
  {
   "cell_type": "code",
   "execution_count": 24,
   "metadata": {
    "id": "hq_ncZ5T_Zcu"
   },
   "outputs": [
    {
     "name": "stdout",
     "output_type": "stream",
     "text": [
      "5982\n"
     ]
    }
   ],
   "source": [
    "# El número de canciones reproducidas en Shelbyville el lunes\n",
    "canciones_lunes_shelbyville = number_tracks(\"Monday\",\"Shelbyville\")\n",
    "print(canciones_lunes_shelbyville)"
   ]
  },
  {
   "cell_type": "code",
   "execution_count": 25,
   "metadata": {
    "id": "_NTy2VPU_Zcu"
   },
   "outputs": [
    {
     "name": "stdout",
     "output_type": "stream",
     "text": [
      "11755\n"
     ]
    }
   ],
   "source": [
    "# El número de canciones reproducidas en Springfield el miércoles\n",
    "canciones_miercoles_springfield = number_tracks(\"Wednesday\",\"Springfield\")\n",
    "print(canciones_miercoles_springfield)"
   ]
  },
  {
   "cell_type": "code",
   "execution_count": 26,
   "metadata": {
    "id": "j2y3TAwo_Zcu"
   },
   "outputs": [
    {
     "name": "stdout",
     "output_type": "stream",
     "text": [
      "7478\n"
     ]
    }
   ],
   "source": [
    "# El número de canciones reproducidas en Shelbyville el miércoles\n",
    "canciones_miercoles_shelbyville = number_tracks(\"Wednesday\",\"Shelbyville\")\n",
    "print(canciones_miercoles_shelbyville)"
   ]
  },
  {
   "cell_type": "code",
   "execution_count": 27,
   "metadata": {
    "id": "vYDw5u_K_Zcu"
   },
   "outputs": [
    {
     "name": "stdout",
     "output_type": "stream",
     "text": [
      "16890\n"
     ]
    }
   ],
   "source": [
    "# El número de canciones reproducidas en Springfield el viernes\n",
    "canciones_viernes_springfield = number_tracks(\"Friday\",\"Springfield\")\n",
    "print(canciones_viernes_springfield)"
   ]
  },
  {
   "cell_type": "code",
   "execution_count": 28,
   "metadata": {
    "id": "8_yzFtW3_Zcu"
   },
   "outputs": [
    {
     "name": "stdout",
     "output_type": "stream",
     "text": [
      "6259\n"
     ]
    }
   ],
   "source": [
    "# El número de canciones reproducidas en Shelbyville el viernes\n",
    "canciones_viernes_shelbyville = number_tracks(\"Friday\",\"Shelbyville\")\n",
    "print(canciones_viernes_shelbyville)"
   ]
  },
  {
   "cell_type": "markdown",
   "metadata": {
    "id": "-EgPIHYu_Zcu"
   },
   "source": [
    "**Conclusiones**\n",
    "\n",
    "`Comenta si la hipótesis es correcta o se debe rechazar. Explica tu razonamiento.`\n",
    "De acuerdo a la información analizada es correcta la hipótesis porque en la comparación que hacemos en las ciudades de Shelbyville y Sprinfield existen diferencias en el consumo de música; debido a que en Sprinfield los días que se consume más música el dia lunes y el dia vieres sin embargo en la ciudad de Shelbyville el día que se consume más música es el día miércoles."
   ]
  },
  {
   "cell_type": "markdown",
   "metadata": {
    "id": "p7nFQajCVw5B"
   },
   "source": [
    "[Volver a Contenidos](#back)"
   ]
  },
  {
   "cell_type": "markdown",
   "metadata": {
    "id": "ykKQ0N65_Zcv"
   },
   "source": [
    "# Conclusiones <a id='end'></a>"
   ]
  },
  {
   "cell_type": "markdown",
   "metadata": {
    "id": "tjUwbHb3_Zcv"
   },
   "source": [
    "`Resume aquí tus conclusiones sobre la hipótesis.`\n",
    "Se comparó la información del consumo de música por usuarios en las ciudades de Sprinfield y Shelbyville se tiene lo siguiente:\n",
    "Hay una mayor cantidad de consumo de música en la ciudad de Sprinfield.\n",
    "En la ciudad de Sprinfield los días lunes y viernes se consume más música.\n",
    "En la ciudad de Shelbyville el día miercoles es cuando se consume más música."
   ]
  },
  {
   "cell_type": "markdown",
   "metadata": {
    "id": "azLHu64yOIp7"
   },
   "source": [
    "### Nota\n",
    "En proyectos de investigación reales, la prueba de hipótesis estadística es más precisa y cuantitativa. También ten en cuenta que no siempre se pueden sacar conclusiones sobre una ciudad entera a partir de datos de una sola fuente.\n",
    "\n",
    "Aprenderás más sobre la prueba de hipótesis en el sprint de análisis estadístico de datos."
   ]
  },
  {
   "cell_type": "markdown",
   "metadata": {
    "id": "Ju4AHDSgV1FE"
   },
   "source": [
    "[Volver a Contenidos](#back)"
   ]
  }
 ],
 "metadata": {
  "ExecuteTimeLog": [
   {
    "duration": 316,
    "start_time": "2024-06-02T21:47:29.030Z"
   },
   {
    "duration": 28,
    "start_time": "2024-06-02T21:49:07.339Z"
   },
   {
    "duration": 1240,
    "start_time": "2024-06-02T21:51:13.663Z"
   },
   {
    "duration": 216,
    "start_time": "2024-06-02T21:52:07.339Z"
   },
   {
    "duration": 165,
    "start_time": "2024-06-02T21:52:11.398Z"
   },
   {
    "duration": 11,
    "start_time": "2024-06-02T21:52:53.686Z"
   },
   {
    "duration": 33,
    "start_time": "2024-06-02T21:57:00.903Z"
   },
   {
    "duration": 22,
    "start_time": "2024-06-02T22:00:21.554Z"
   },
   {
    "duration": 5,
    "start_time": "2024-06-02T22:00:36.285Z"
   },
   {
    "duration": 9,
    "start_time": "2024-06-02T22:08:53.192Z"
   },
   {
    "duration": 5,
    "start_time": "2024-06-02T22:09:04.755Z"
   },
   {
    "duration": 5,
    "start_time": "2024-06-02T22:11:48.039Z"
   },
   {
    "duration": 4,
    "start_time": "2024-06-02T22:11:51.808Z"
   },
   {
    "duration": 6,
    "start_time": "2024-06-02T22:12:14.581Z"
   },
   {
    "duration": 6,
    "start_time": "2024-06-02T22:13:18.784Z"
   },
   {
    "duration": 7,
    "start_time": "2024-06-02T22:14:42.070Z"
   },
   {
    "duration": 6,
    "start_time": "2024-06-02T22:15:02.180Z"
   },
   {
    "duration": 5,
    "start_time": "2024-06-02T22:15:56.189Z"
   },
   {
    "duration": 27,
    "start_time": "2024-06-02T22:19:58.288Z"
   },
   {
    "duration": 7,
    "start_time": "2024-06-02T22:20:38.044Z"
   },
   {
    "duration": 32,
    "start_time": "2024-06-02T22:22:51.903Z"
   },
   {
    "duration": 9,
    "start_time": "2024-06-02T22:27:03.713Z"
   },
   {
    "duration": 6,
    "start_time": "2024-06-02T22:27:17.419Z"
   },
   {
    "duration": 4,
    "start_time": "2024-06-02T22:27:34.602Z"
   },
   {
    "duration": 10,
    "start_time": "2024-06-02T22:28:34.510Z"
   },
   {
    "duration": 327,
    "start_time": "2024-06-02T22:29:33.450Z"
   },
   {
    "duration": 599,
    "start_time": "2024-06-02T22:29:51.461Z"
   },
   {
    "duration": 12,
    "start_time": "2024-06-02T22:30:14.677Z"
   },
   {
    "duration": 46,
    "start_time": "2024-06-02T22:30:30.966Z"
   },
   {
    "duration": 8,
    "start_time": "2024-06-02T22:30:39.833Z"
   },
   {
    "duration": 9,
    "start_time": "2024-06-02T22:30:48.660Z"
   },
   {
    "duration": 36,
    "start_time": "2024-06-02T22:30:55.661Z"
   },
   {
    "duration": 7,
    "start_time": "2024-06-02T22:34:14.012Z"
   },
   {
    "duration": 6,
    "start_time": "2024-06-02T22:38:26.381Z"
   },
   {
    "duration": 6,
    "start_time": "2024-06-02T22:39:10.003Z"
   },
   {
    "duration": 6,
    "start_time": "2024-06-02T22:51:36.709Z"
   },
   {
    "duration": 65,
    "start_time": "2024-06-02T22:54:49.714Z"
   },
   {
    "duration": 5,
    "start_time": "2024-06-02T22:55:07.733Z"
   },
   {
    "duration": 7,
    "start_time": "2024-06-02T23:02:41.009Z"
   },
   {
    "duration": 1468,
    "start_time": "2024-06-02T23:13:05.319Z"
   },
   {
    "duration": 86,
    "start_time": "2024-06-02T23:13:43.049Z"
   },
   {
    "duration": 23,
    "start_time": "2024-06-02T23:14:22.887Z"
   },
   {
    "duration": 30,
    "start_time": "2024-06-02T23:15:04.093Z"
   },
   {
    "duration": 82,
    "start_time": "2024-06-02T23:15:17.937Z"
   },
   {
    "duration": 5,
    "start_time": "2024-06-02T23:16:10.422Z"
   },
   {
    "duration": 5,
    "start_time": "2024-06-02T23:16:20.632Z"
   },
   {
    "duration": 6,
    "start_time": "2024-06-02T23:16:26.210Z"
   },
   {
    "duration": 7,
    "start_time": "2024-06-02T23:16:43.003Z"
   },
   {
    "duration": 7,
    "start_time": "2024-06-02T23:16:58.770Z"
   },
   {
    "duration": 347,
    "start_time": "2024-06-02T23:17:24.220Z"
   },
   {
    "duration": 24,
    "start_time": "2024-06-02T23:17:36.909Z"
   },
   {
    "duration": 22,
    "start_time": "2024-06-02T23:18:32.428Z"
   },
   {
    "duration": 679,
    "start_time": "2024-06-02T23:18:50.603Z"
   },
   {
    "duration": 15,
    "start_time": "2024-06-02T23:18:55.286Z"
   },
   {
    "duration": 5,
    "start_time": "2024-06-02T23:19:02.052Z"
   },
   {
    "duration": 6,
    "start_time": "2024-06-02T23:19:08.557Z"
   },
   {
    "duration": 6,
    "start_time": "2024-06-02T23:20:12.646Z"
   },
   {
    "duration": 6,
    "start_time": "2024-06-02T23:21:56.453Z"
   },
   {
    "duration": 61,
    "start_time": "2024-06-02T23:27:19.313Z"
   },
   {
    "duration": 5,
    "start_time": "2024-06-02T23:28:47.239Z"
   },
   {
    "duration": 639,
    "start_time": "2024-06-02T23:30:12.126Z"
   },
   {
    "duration": 12,
    "start_time": "2024-06-02T23:30:14.873Z"
   },
   {
    "duration": 6,
    "start_time": "2024-06-02T23:30:25.178Z"
   },
   {
    "duration": 1787,
    "start_time": "2024-06-02T23:34:20.477Z"
   },
   {
    "duration": 38,
    "start_time": "2024-06-02T23:35:48.612Z"
   },
   {
    "duration": 6,
    "start_time": "2024-06-02T23:36:44.172Z"
   },
   {
    "duration": 4,
    "start_time": "2024-06-02T23:38:23.454Z"
   },
   {
    "duration": 6,
    "start_time": "2024-06-02T23:38:45.105Z"
   },
   {
    "duration": 5,
    "start_time": "2024-06-02T23:38:55.485Z"
   },
   {
    "duration": 37,
    "start_time": "2024-06-02T23:42:33.714Z"
   },
   {
    "duration": 53,
    "start_time": "2024-06-02T23:54:55.986Z"
   },
   {
    "duration": 38,
    "start_time": "2024-06-02T23:55:19.062Z"
   },
   {
    "duration": 112,
    "start_time": "2024-06-03T00:02:37.307Z"
   },
   {
    "duration": 111,
    "start_time": "2024-06-03T00:07:15.336Z"
   },
   {
    "duration": 106,
    "start_time": "2024-06-03T00:08:18.351Z"
   },
   {
    "duration": 80,
    "start_time": "2024-06-03T00:08:38.901Z"
   },
   {
    "duration": 76,
    "start_time": "2024-06-03T00:08:47.384Z"
   },
   {
    "duration": 10,
    "start_time": "2024-06-03T00:15:49.655Z"
   },
   {
    "duration": 12,
    "start_time": "2024-06-03T00:18:06.722Z"
   },
   {
    "duration": 4,
    "start_time": "2024-06-03T00:18:38.508Z"
   },
   {
    "duration": 6,
    "start_time": "2024-06-03T00:28:59.996Z"
   },
   {
    "duration": 278,
    "start_time": "2024-06-03T00:29:03.066Z"
   },
   {
    "duration": 4,
    "start_time": "2024-06-03T00:29:38.009Z"
   },
   {
    "duration": 132,
    "start_time": "2024-06-03T00:29:42.071Z"
   },
   {
    "duration": 7,
    "start_time": "2024-06-03T00:30:23.170Z"
   },
   {
    "duration": 91,
    "start_time": "2024-06-03T00:43:40.409Z"
   },
   {
    "duration": 3,
    "start_time": "2024-06-03T00:44:18.546Z"
   },
   {
    "duration": 5,
    "start_time": "2024-06-03T00:46:33.539Z"
   },
   {
    "duration": 13,
    "start_time": "2024-06-03T02:34:33.058Z"
   },
   {
    "duration": 11,
    "start_time": "2024-06-03T02:34:38.003Z"
   },
   {
    "duration": 4,
    "start_time": "2024-06-03T02:36:55.051Z"
   },
   {
    "duration": 15,
    "start_time": "2024-06-03T02:40:22.182Z"
   },
   {
    "duration": 41,
    "start_time": "2024-06-03T02:43:16.577Z"
   },
   {
    "duration": 15,
    "start_time": "2024-06-03T02:44:10.457Z"
   },
   {
    "duration": 7,
    "start_time": "2024-06-03T02:55:03.318Z"
   },
   {
    "duration": 7,
    "start_time": "2024-06-03T02:55:13.923Z"
   },
   {
    "duration": 6,
    "start_time": "2024-06-03T02:55:35.952Z"
   },
   {
    "duration": 4,
    "start_time": "2024-06-03T02:55:53.364Z"
   },
   {
    "duration": 7,
    "start_time": "2024-06-03T03:23:54.180Z"
   },
   {
    "duration": 8,
    "start_time": "2024-06-03T03:24:54.530Z"
   },
   {
    "duration": 7,
    "start_time": "2024-06-03T03:25:00.445Z"
   },
   {
    "duration": 7,
    "start_time": "2024-06-03T03:26:21.792Z"
   },
   {
    "duration": 8,
    "start_time": "2024-06-03T03:26:42.853Z"
   },
   {
    "duration": 5,
    "start_time": "2024-06-03T03:27:46.306Z"
   },
   {
    "duration": 301,
    "start_time": "2024-06-03T03:28:17.017Z"
   },
   {
    "duration": 93,
    "start_time": "2024-06-03T03:29:13.795Z"
   },
   {
    "duration": 96,
    "start_time": "2024-06-03T03:29:44.488Z"
   },
   {
    "duration": 4,
    "start_time": "2024-06-03T03:30:41.470Z"
   },
   {
    "duration": 11,
    "start_time": "2024-06-11T03:24:05.680Z"
   },
   {
    "duration": 313,
    "start_time": "2024-06-11T03:24:27.170Z"
   },
   {
    "duration": 24,
    "start_time": "2024-06-11T03:24:58.674Z"
   },
   {
    "duration": 680,
    "start_time": "2024-06-11T03:25:31.291Z"
   },
   {
    "duration": 10,
    "start_time": "2024-06-11T03:25:37.787Z"
   },
   {
    "duration": 34,
    "start_time": "2024-06-11T03:25:42.614Z"
   },
   {
    "duration": 4,
    "start_time": "2024-06-11T03:25:47.782Z"
   },
   {
    "duration": 5,
    "start_time": "2024-06-11T03:25:51.499Z"
   },
   {
    "duration": 6,
    "start_time": "2024-06-11T03:25:54.248Z"
   },
   {
    "duration": 6,
    "start_time": "2024-06-11T03:25:56.681Z"
   },
   {
    "duration": 5,
    "start_time": "2024-06-11T03:25:59.845Z"
   },
   {
    "duration": 30,
    "start_time": "2024-06-11T03:26:02.705Z"
   },
   {
    "duration": 42,
    "start_time": "2024-06-11T03:26:05.637Z"
   },
   {
    "duration": 28,
    "start_time": "2024-06-11T03:26:09.758Z"
   },
   {
    "duration": 78,
    "start_time": "2024-06-11T03:26:13.484Z"
   },
   {
    "duration": 94,
    "start_time": "2024-06-11T03:26:16.699Z"
   },
   {
    "duration": 78,
    "start_time": "2024-06-11T03:26:18.906Z"
   },
   {
    "duration": 9,
    "start_time": "2024-06-11T03:26:21.902Z"
   },
   {
    "duration": 4,
    "start_time": "2024-06-11T03:26:31.376Z"
   },
   {
    "duration": 12,
    "start_time": "2024-06-11T03:26:34.026Z"
   },
   {
    "duration": 10,
    "start_time": "2024-06-11T03:26:38.307Z"
   },
   {
    "duration": 15,
    "start_time": "2024-06-11T03:26:46.051Z"
   },
   {
    "duration": 16,
    "start_time": "2024-06-11T03:26:51.904Z"
   },
   {
    "duration": 5,
    "start_time": "2024-06-11T03:27:01.828Z"
   },
   {
    "duration": 27,
    "start_time": "2024-06-11T03:27:04.334Z"
   },
   {
    "duration": 78,
    "start_time": "2024-06-11T03:28:38.024Z"
   },
   {
    "duration": 22,
    "start_time": "2024-06-11T03:30:32.942Z"
   },
   {
    "duration": 0,
    "start_time": "2024-06-11T03:30:32.968Z"
   },
   {
    "duration": 0,
    "start_time": "2024-06-11T03:30:32.972Z"
   },
   {
    "duration": 0,
    "start_time": "2024-06-11T03:30:32.974Z"
   },
   {
    "duration": 0,
    "start_time": "2024-06-11T03:30:32.976Z"
   },
   {
    "duration": 0,
    "start_time": "2024-06-11T03:30:32.978Z"
   },
   {
    "duration": 0,
    "start_time": "2024-06-11T03:30:32.980Z"
   },
   {
    "duration": 0,
    "start_time": "2024-06-11T03:30:32.981Z"
   },
   {
    "duration": 0,
    "start_time": "2024-06-11T03:30:32.984Z"
   },
   {
    "duration": 0,
    "start_time": "2024-06-11T03:30:32.987Z"
   },
   {
    "duration": 376,
    "start_time": "2024-06-11T03:30:32.997Z"
   },
   {
    "duration": 0,
    "start_time": "2024-06-11T03:30:33.377Z"
   },
   {
    "duration": 0,
    "start_time": "2024-06-11T03:30:33.379Z"
   },
   {
    "duration": 0,
    "start_time": "2024-06-11T03:30:33.390Z"
   },
   {
    "duration": 0,
    "start_time": "2024-06-11T03:30:33.393Z"
   },
   {
    "duration": 0,
    "start_time": "2024-06-11T03:30:33.394Z"
   },
   {
    "duration": 0,
    "start_time": "2024-06-11T03:30:33.396Z"
   },
   {
    "duration": 0,
    "start_time": "2024-06-11T03:30:33.401Z"
   },
   {
    "duration": 0,
    "start_time": "2024-06-11T03:30:33.404Z"
   },
   {
    "duration": 0,
    "start_time": "2024-06-11T03:30:33.406Z"
   },
   {
    "duration": 0,
    "start_time": "2024-06-11T03:30:33.408Z"
   },
   {
    "duration": 0,
    "start_time": "2024-06-11T03:30:33.411Z"
   },
   {
    "duration": 0,
    "start_time": "2024-06-11T03:30:33.413Z"
   },
   {
    "duration": 0,
    "start_time": "2024-06-11T03:30:33.414Z"
   },
   {
    "duration": 0,
    "start_time": "2024-06-11T03:30:33.418Z"
   },
   {
    "duration": 0,
    "start_time": "2024-06-11T03:30:33.420Z"
   },
   {
    "duration": 0,
    "start_time": "2024-06-11T03:30:33.422Z"
   },
   {
    "duration": 0,
    "start_time": "2024-06-11T03:30:33.423Z"
   },
   {
    "duration": 0,
    "start_time": "2024-06-11T03:30:33.425Z"
   },
   {
    "duration": 0,
    "start_time": "2024-06-11T03:30:33.427Z"
   },
   {
    "duration": 21,
    "start_time": "2024-06-11T03:30:48.779Z"
   },
   {
    "duration": 596,
    "start_time": "2024-06-11T03:31:55.128Z"
   },
   {
    "duration": 10,
    "start_time": "2024-06-11T03:31:58.052Z"
   },
   {
    "duration": 32,
    "start_time": "2024-06-11T03:32:03.588Z"
   },
   {
    "duration": 5,
    "start_time": "2024-06-11T03:32:08.493Z"
   },
   {
    "duration": 6,
    "start_time": "2024-06-11T03:32:12.337Z"
   },
   {
    "duration": 6,
    "start_time": "2024-06-11T03:32:17.165Z"
   },
   {
    "duration": 5,
    "start_time": "2024-06-11T03:32:18.934Z"
   },
   {
    "duration": 5,
    "start_time": "2024-06-11T03:32:36.855Z"
   },
   {
    "duration": 31,
    "start_time": "2024-06-11T03:32:42.280Z"
   },
   {
    "duration": 42,
    "start_time": "2024-06-11T03:32:45.748Z"
   },
   {
    "duration": 29,
    "start_time": "2024-06-11T03:32:48.740Z"
   },
   {
    "duration": 75,
    "start_time": "2024-06-11T03:32:51.746Z"
   },
   {
    "duration": 84,
    "start_time": "2024-06-11T03:32:55.200Z"
   },
   {
    "duration": 75,
    "start_time": "2024-06-11T03:32:58.055Z"
   },
   {
    "duration": 10,
    "start_time": "2024-06-11T03:33:04.373Z"
   },
   {
    "duration": 4,
    "start_time": "2024-06-11T03:33:09.566Z"
   },
   {
    "duration": 12,
    "start_time": "2024-06-11T03:33:12.193Z"
   },
   {
    "duration": 10,
    "start_time": "2024-06-11T03:33:15.779Z"
   },
   {
    "duration": 4,
    "start_time": "2024-06-11T03:33:24.022Z"
   },
   {
    "duration": 21,
    "start_time": "2024-06-11T03:33:27.745Z"
   },
   {
    "duration": 16,
    "start_time": "2024-06-11T03:41:35.767Z"
   },
   {
    "duration": 15,
    "start_time": "2024-06-11T03:41:39.680Z"
   },
   {
    "duration": 19,
    "start_time": "2024-06-11T03:44:47.220Z"
   },
   {
    "duration": 18,
    "start_time": "2024-06-11T03:44:50.363Z"
   },
   {
    "duration": 17,
    "start_time": "2024-06-11T03:44:53.442Z"
   },
   {
    "duration": 27,
    "start_time": "2024-06-11T03:44:56.658Z"
   },
   {
    "duration": 21,
    "start_time": "2024-06-11T03:44:59.462Z"
   },
   {
    "duration": 37,
    "start_time": "2024-06-11T03:46:59.777Z"
   },
   {
    "duration": 13,
    "start_time": "2024-06-14T20:33:40.491Z"
   },
   {
    "duration": 0,
    "start_time": "2024-06-14T20:33:40.510Z"
   },
   {
    "duration": 0,
    "start_time": "2024-06-14T20:33:40.513Z"
   },
   {
    "duration": 0,
    "start_time": "2024-06-14T20:33:40.515Z"
   },
   {
    "duration": 0,
    "start_time": "2024-06-14T20:33:40.517Z"
   },
   {
    "duration": 0,
    "start_time": "2024-06-14T20:33:40.520Z"
   },
   {
    "duration": 0,
    "start_time": "2024-06-14T20:33:40.523Z"
   },
   {
    "duration": 0,
    "start_time": "2024-06-14T20:33:40.526Z"
   },
   {
    "duration": 0,
    "start_time": "2024-06-14T20:33:40.528Z"
   },
   {
    "duration": 0,
    "start_time": "2024-06-14T20:33:40.530Z"
   },
   {
    "duration": 0,
    "start_time": "2024-06-14T20:33:40.532Z"
   },
   {
    "duration": 0,
    "start_time": "2024-06-14T20:33:40.534Z"
   },
   {
    "duration": 0,
    "start_time": "2024-06-14T20:33:40.537Z"
   },
   {
    "duration": 0,
    "start_time": "2024-06-14T20:33:40.539Z"
   },
   {
    "duration": 0,
    "start_time": "2024-06-14T20:33:40.541Z"
   },
   {
    "duration": 0,
    "start_time": "2024-06-14T20:33:40.542Z"
   },
   {
    "duration": 0,
    "start_time": "2024-06-14T20:33:40.545Z"
   },
   {
    "duration": 0,
    "start_time": "2024-06-14T20:33:40.602Z"
   },
   {
    "duration": 0,
    "start_time": "2024-06-14T20:33:40.604Z"
   },
   {
    "duration": 0,
    "start_time": "2024-06-14T20:33:40.606Z"
   },
   {
    "duration": 0,
    "start_time": "2024-06-14T20:33:40.614Z"
   },
   {
    "duration": 392,
    "start_time": "2024-06-14T20:33:40.621Z"
   },
   {
    "duration": 0,
    "start_time": "2024-06-14T20:33:41.016Z"
   },
   {
    "duration": 0,
    "start_time": "2024-06-14T20:33:41.018Z"
   },
   {
    "duration": 0,
    "start_time": "2024-06-14T20:33:41.020Z"
   },
   {
    "duration": 0,
    "start_time": "2024-06-14T20:33:41.021Z"
   },
   {
    "duration": 0,
    "start_time": "2024-06-14T20:33:41.023Z"
   },
   {
    "duration": 0,
    "start_time": "2024-06-14T20:33:41.026Z"
   },
   {
    "duration": 0,
    "start_time": "2024-06-14T20:33:41.029Z"
   },
   {
    "duration": 462,
    "start_time": "2024-06-14T20:33:51.316Z"
   },
   {
    "duration": 173,
    "start_time": "2024-06-14T20:33:51.782Z"
   },
   {
    "duration": 10,
    "start_time": "2024-06-14T20:33:51.958Z"
   },
   {
    "duration": 49,
    "start_time": "2024-06-14T20:33:51.971Z"
   },
   {
    "duration": 4,
    "start_time": "2024-06-14T20:33:52.025Z"
   },
   {
    "duration": 6,
    "start_time": "2024-06-14T20:33:52.032Z"
   },
   {
    "duration": 7,
    "start_time": "2024-06-14T20:33:52.041Z"
   },
   {
    "duration": 52,
    "start_time": "2024-06-14T20:33:52.051Z"
   },
   {
    "duration": 4,
    "start_time": "2024-06-14T20:33:52.107Z"
   },
   {
    "duration": 30,
    "start_time": "2024-06-14T20:33:52.114Z"
   },
   {
    "duration": 69,
    "start_time": "2024-06-14T20:33:52.147Z"
   },
   {
    "duration": 27,
    "start_time": "2024-06-14T20:33:52.218Z"
   },
   {
    "duration": 106,
    "start_time": "2024-06-14T20:33:52.248Z"
   },
   {
    "duration": 94,
    "start_time": "2024-06-14T20:33:52.360Z"
   },
   {
    "duration": 91,
    "start_time": "2024-06-14T20:33:52.457Z"
   },
   {
    "duration": 12,
    "start_time": "2024-06-14T20:33:52.550Z"
   },
   {
    "duration": 6,
    "start_time": "2024-06-14T20:33:52.565Z"
   },
   {
    "duration": 39,
    "start_time": "2024-06-14T20:33:52.573Z"
   },
   {
    "duration": 10,
    "start_time": "2024-06-14T20:33:52.614Z"
   },
   {
    "duration": 15,
    "start_time": "2024-06-14T20:33:52.627Z"
   },
   {
    "duration": 15,
    "start_time": "2024-06-14T20:33:52.645Z"
   },
   {
    "duration": 42,
    "start_time": "2024-06-14T20:33:52.662Z"
   },
   {
    "duration": 22,
    "start_time": "2024-06-14T20:33:52.708Z"
   },
   {
    "duration": 19,
    "start_time": "2024-06-14T20:33:52.733Z"
   },
   {
    "duration": 55,
    "start_time": "2024-06-14T20:33:52.755Z"
   },
   {
    "duration": 18,
    "start_time": "2024-06-14T20:33:52.813Z"
   },
   {
    "duration": 27,
    "start_time": "2024-06-14T20:33:52.833Z"
   },
   {
    "duration": 56,
    "start_time": "2024-06-14T20:33:52.863Z"
   },
   {
    "duration": 311,
    "start_time": "2024-06-15T01:47:31.168Z"
   },
   {
    "duration": 441,
    "start_time": "2024-06-15T01:47:39.786Z"
   },
   {
    "duration": 189,
    "start_time": "2024-06-15T01:47:42.567Z"
   },
   {
    "duration": 20,
    "start_time": "2024-06-15T01:47:46.763Z"
   },
   {
    "duration": 63,
    "start_time": "2024-06-15T01:54:03.630Z"
   },
   {
    "duration": 9,
    "start_time": "2024-06-15T01:54:57.367Z"
   },
   {
    "duration": 99,
    "start_time": "2024-06-15T01:57:38.264Z"
   },
   {
    "duration": 708,
    "start_time": "2024-06-15T01:58:59.172Z"
   },
   {
    "duration": 81,
    "start_time": "2024-06-15T01:59:17.413Z"
   },
   {
    "duration": 80,
    "start_time": "2024-06-15T01:59:23.875Z"
   },
   {
    "duration": 8,
    "start_time": "2024-06-15T01:59:36.621Z"
   },
   {
    "duration": 82,
    "start_time": "2024-06-15T01:59:44.018Z"
   },
   {
    "duration": 72,
    "start_time": "2024-06-15T02:00:38.734Z"
   },
   {
    "duration": 8,
    "start_time": "2024-06-15T02:00:43.438Z"
   },
   {
    "duration": 6,
    "start_time": "2024-06-15T02:01:00.591Z"
   },
   {
    "duration": 13,
    "start_time": "2024-06-15T02:01:05.982Z"
   },
   {
    "duration": 15,
    "start_time": "2024-06-15T02:01:10.870Z"
   },
   {
    "duration": 78,
    "start_time": "2024-06-15T02:01:15.787Z"
   },
   {
    "duration": 68,
    "start_time": "2024-06-15T02:02:10.157Z"
   },
   {
    "duration": 33,
    "start_time": "2024-06-15T02:02:28.614Z"
   },
   {
    "duration": 4,
    "start_time": "2024-06-15T02:02:35.702Z"
   },
   {
    "duration": 5,
    "start_time": "2024-06-15T02:02:43.670Z"
   },
   {
    "duration": 7,
    "start_time": "2024-06-15T02:02:47.699Z"
   },
   {
    "duration": 6,
    "start_time": "2024-06-15T02:02:54.309Z"
   },
   {
    "duration": 5,
    "start_time": "2024-06-15T02:02:57.732Z"
   },
   {
    "duration": 28,
    "start_time": "2024-06-15T02:03:05.186Z"
   },
   {
    "duration": 40,
    "start_time": "2024-06-15T02:03:11.454Z"
   },
   {
    "duration": 53,
    "start_time": "2024-06-15T02:03:14.530Z"
   },
   {
    "duration": 28,
    "start_time": "2024-06-15T02:03:17.620Z"
   },
   {
    "duration": 72,
    "start_time": "2024-06-15T02:03:24.837Z"
   },
   {
    "duration": 97,
    "start_time": "2024-06-15T02:03:28.775Z"
   },
   {
    "duration": 71,
    "start_time": "2024-06-15T02:03:35.022Z"
   },
   {
    "duration": 10,
    "start_time": "2024-06-15T02:03:37.950Z"
   },
   {
    "duration": 4,
    "start_time": "2024-06-15T02:03:42.756Z"
   },
   {
    "duration": 11,
    "start_time": "2024-06-15T02:03:45.514Z"
   },
   {
    "duration": 11,
    "start_time": "2024-06-15T02:03:47.676Z"
   },
   {
    "duration": 16,
    "start_time": "2024-06-15T02:03:53.159Z"
   },
   {
    "duration": 16,
    "start_time": "2024-06-15T02:03:58.334Z"
   },
   {
    "duration": 12,
    "start_time": "2024-06-15T02:04:49.949Z"
   },
   {
    "duration": 13,
    "start_time": "2024-06-15T02:07:13.871Z"
   },
   {
    "duration": 11,
    "start_time": "2024-06-15T02:08:37.706Z"
   },
   {
    "duration": 5,
    "start_time": "2024-06-15T02:08:44.140Z"
   },
   {
    "duration": 12,
    "start_time": "2024-06-15T02:08:47.448Z"
   },
   {
    "duration": 9,
    "start_time": "2024-06-15T02:08:53.330Z"
   },
   {
    "duration": 471,
    "start_time": "2024-06-18T02:33:19.137Z"
   },
   {
    "duration": 182,
    "start_time": "2024-06-18T02:33:21.099Z"
   },
   {
    "duration": 22,
    "start_time": "2024-06-18T02:33:23.878Z"
   },
   {
    "duration": 33,
    "start_time": "2024-06-18T02:33:32.568Z"
   },
   {
    "duration": 5,
    "start_time": "2024-06-18T02:33:56.111Z"
   },
   {
    "duration": 6,
    "start_time": "2024-06-18T02:34:03.383Z"
   },
   {
    "duration": 6,
    "start_time": "2024-06-18T02:34:19.451Z"
   },
   {
    "duration": 5,
    "start_time": "2024-06-18T02:34:30.938Z"
   },
   {
    "duration": 4,
    "start_time": "2024-06-18T02:34:39.516Z"
   },
   {
    "duration": 28,
    "start_time": "2024-06-18T02:34:42.834Z"
   },
   {
    "duration": 41,
    "start_time": "2024-06-18T02:34:45.958Z"
   },
   {
    "duration": 33,
    "start_time": "2024-06-18T02:34:53.943Z"
   },
   {
    "duration": 81,
    "start_time": "2024-06-18T02:34:59.777Z"
   },
   {
    "duration": 105,
    "start_time": "2024-06-18T02:35:03.361Z"
   },
   {
    "duration": 105,
    "start_time": "2024-06-18T02:35:21.628Z"
   },
   {
    "duration": 12,
    "start_time": "2024-06-18T02:35:33.067Z"
   },
   {
    "duration": 5,
    "start_time": "2024-06-18T02:35:53.383Z"
   },
   {
    "duration": 14,
    "start_time": "2024-06-18T02:35:56.474Z"
   },
   {
    "duration": 11,
    "start_time": "2024-06-18T02:36:00.925Z"
   },
   {
    "duration": 16,
    "start_time": "2024-06-18T02:36:23.720Z"
   },
   {
    "duration": 14,
    "start_time": "2024-06-18T02:36:29.011Z"
   },
   {
    "duration": 14,
    "start_time": "2024-06-18T02:36:42.286Z"
   },
   {
    "duration": 13,
    "start_time": "2024-06-18T02:36:51.165Z"
   },
   {
    "duration": 15,
    "start_time": "2024-06-18T02:37:18.489Z"
   },
   {
    "duration": 5,
    "start_time": "2024-06-18T02:37:23.761Z"
   },
   {
    "duration": 23,
    "start_time": "2024-06-18T02:37:27.682Z"
   },
   {
    "duration": 23,
    "start_time": "2024-06-18T02:37:30.806Z"
   },
   {
    "duration": 23,
    "start_time": "2024-06-18T02:37:35.789Z"
   },
   {
    "duration": 19,
    "start_time": "2024-06-18T02:37:45.967Z"
   },
   {
    "duration": 5,
    "start_time": "2024-06-18T02:37:52.847Z"
   },
   {
    "duration": 25,
    "start_time": "2024-06-18T02:37:57.159Z"
   },
   {
    "duration": 20,
    "start_time": "2024-06-18T02:38:00.816Z"
   },
   {
    "duration": 23,
    "start_time": "2024-06-18T02:38:05.034Z"
   },
   {
    "duration": 19,
    "start_time": "2024-06-18T02:38:08.263Z"
   },
   {
    "duration": 24,
    "start_time": "2024-06-18T02:38:11.297Z"
   },
   {
    "duration": 20,
    "start_time": "2024-06-18T02:38:16.368Z"
   },
   {
    "duration": 14,
    "start_time": "2024-06-18T02:38:48.294Z"
   },
   {
    "duration": 16,
    "start_time": "2024-06-18T02:40:24.728Z"
   },
   {
    "duration": 15,
    "start_time": "2024-06-18T02:49:10.951Z"
   },
   {
    "duration": 32,
    "start_time": "2024-06-18T02:49:14.853Z"
   },
   {
    "duration": 4,
    "start_time": "2024-06-18T02:49:21.657Z"
   },
   {
    "duration": 6,
    "start_time": "2024-06-18T02:49:26.090Z"
   },
   {
    "duration": 6,
    "start_time": "2024-06-18T02:49:37.609Z"
   },
   {
    "duration": 5,
    "start_time": "2024-06-18T02:49:43.726Z"
   },
   {
    "duration": 27,
    "start_time": "2024-06-18T02:49:48.957Z"
   },
   {
    "duration": 40,
    "start_time": "2024-06-18T02:49:57.677Z"
   },
   {
    "duration": 26,
    "start_time": "2024-06-18T02:50:20.317Z"
   },
   {
    "duration": 3,
    "start_time": "2024-06-18T02:50:30.594Z"
   },
   {
    "duration": 478,
    "start_time": "2024-06-18T02:51:08.721Z"
   },
   {
    "duration": 171,
    "start_time": "2024-06-18T02:51:09.203Z"
   },
   {
    "duration": 24,
    "start_time": "2024-06-18T02:51:09.377Z"
   },
   {
    "duration": 53,
    "start_time": "2024-06-18T02:51:09.404Z"
   },
   {
    "duration": 4,
    "start_time": "2024-06-18T02:51:09.462Z"
   },
   {
    "duration": 6,
    "start_time": "2024-06-18T02:51:09.470Z"
   },
   {
    "duration": 7,
    "start_time": "2024-06-18T02:51:09.479Z"
   },
   {
    "duration": 5,
    "start_time": "2024-06-18T02:51:09.533Z"
   },
   {
    "duration": 4,
    "start_time": "2024-06-18T02:51:09.542Z"
   },
   {
    "duration": 28,
    "start_time": "2024-06-18T02:51:09.549Z"
   },
   {
    "duration": 77,
    "start_time": "2024-06-18T02:51:09.580Z"
   },
   {
    "duration": 28,
    "start_time": "2024-06-18T02:51:09.660Z"
   },
   {
    "duration": 104,
    "start_time": "2024-06-18T02:51:09.692Z"
   },
   {
    "duration": 131,
    "start_time": "2024-06-18T02:51:09.802Z"
   },
   {
    "duration": 96,
    "start_time": "2024-06-18T02:51:09.937Z"
   },
   {
    "duration": 11,
    "start_time": "2024-06-18T02:51:10.036Z"
   },
   {
    "duration": 4,
    "start_time": "2024-06-18T02:51:10.051Z"
   },
   {
    "duration": 14,
    "start_time": "2024-06-18T02:51:10.059Z"
   },
   {
    "duration": 10,
    "start_time": "2024-06-18T02:51:10.076Z"
   },
   {
    "duration": 16,
    "start_time": "2024-06-18T02:51:10.134Z"
   },
   {
    "duration": 16,
    "start_time": "2024-06-18T02:51:10.153Z"
   },
   {
    "duration": 5,
    "start_time": "2024-06-18T02:51:10.172Z"
   },
   {
    "duration": 63,
    "start_time": "2024-06-18T02:51:10.180Z"
   },
   {
    "duration": 20,
    "start_time": "2024-06-18T02:51:10.246Z"
   },
   {
    "duration": 22,
    "start_time": "2024-06-18T02:51:10.269Z"
   },
   {
    "duration": 55,
    "start_time": "2024-06-18T02:51:10.294Z"
   },
   {
    "duration": 23,
    "start_time": "2024-06-18T02:51:10.353Z"
   },
   {
    "duration": 20,
    "start_time": "2024-06-18T02:51:10.381Z"
   },
   {
    "duration": 4,
    "start_time": "2024-06-18T02:51:21.047Z"
   },
   {
    "duration": 160,
    "start_time": "2024-06-18T02:51:23.640Z"
   },
   {
    "duration": 15,
    "start_time": "2024-06-18T02:51:26.671Z"
   },
   {
    "duration": 39,
    "start_time": "2024-06-18T02:51:36.384Z"
   },
   {
    "duration": 5,
    "start_time": "2024-06-18T02:51:41.646Z"
   },
   {
    "duration": 6,
    "start_time": "2024-06-18T02:51:45.868Z"
   },
   {
    "duration": 479,
    "start_time": "2024-06-18T02:52:15.641Z"
   },
   {
    "duration": 181,
    "start_time": "2024-06-18T02:52:16.132Z"
   },
   {
    "duration": 30,
    "start_time": "2024-06-18T02:52:16.317Z"
   },
   {
    "duration": 37,
    "start_time": "2024-06-18T02:52:16.350Z"
   },
   {
    "duration": 5,
    "start_time": "2024-06-18T02:52:16.391Z"
   },
   {
    "duration": 6,
    "start_time": "2024-06-18T02:52:16.434Z"
   },
   {
    "duration": 7,
    "start_time": "2024-06-18T02:52:16.443Z"
   },
   {
    "duration": 7,
    "start_time": "2024-06-18T02:52:16.453Z"
   },
   {
    "duration": 7,
    "start_time": "2024-06-18T02:52:16.464Z"
   },
   {
    "duration": 76,
    "start_time": "2024-06-18T02:52:16.477Z"
   },
   {
    "duration": 40,
    "start_time": "2024-06-18T02:52:16.556Z"
   },
   {
    "duration": 51,
    "start_time": "2024-06-18T02:52:16.598Z"
   },
   {
    "duration": 99,
    "start_time": "2024-06-18T02:52:16.652Z"
   },
   {
    "duration": 115,
    "start_time": "2024-06-18T02:52:16.757Z"
   },
   {
    "duration": 95,
    "start_time": "2024-06-18T02:52:16.876Z"
   },
   {
    "duration": 10,
    "start_time": "2024-06-18T02:52:16.974Z"
   },
   {
    "duration": 4,
    "start_time": "2024-06-18T02:52:16.988Z"
   },
   {
    "duration": 42,
    "start_time": "2024-06-18T02:52:16.997Z"
   },
   {
    "duration": 11,
    "start_time": "2024-06-18T02:52:17.041Z"
   },
   {
    "duration": 17,
    "start_time": "2024-06-18T02:52:17.056Z"
   },
   {
    "duration": 16,
    "start_time": "2024-06-18T02:52:17.076Z"
   },
   {
    "duration": 5,
    "start_time": "2024-06-18T02:52:17.134Z"
   },
   {
    "duration": 33,
    "start_time": "2024-06-18T02:52:17.142Z"
   },
   {
    "duration": 23,
    "start_time": "2024-06-18T02:52:17.179Z"
   },
   {
    "duration": 21,
    "start_time": "2024-06-18T02:52:17.234Z"
   },
   {
    "duration": 20,
    "start_time": "2024-06-18T02:52:17.258Z"
   },
   {
    "duration": 60,
    "start_time": "2024-06-18T02:52:17.281Z"
   },
   {
    "duration": 22,
    "start_time": "2024-06-18T02:52:17.345Z"
   },
   {
    "duration": 4,
    "start_time": "2024-06-18T02:52:27.641Z"
   },
   {
    "duration": 170,
    "start_time": "2024-06-18T02:52:31.165Z"
   },
   {
    "duration": 14,
    "start_time": "2024-06-18T02:52:35.492Z"
   },
   {
    "duration": 36,
    "start_time": "2024-06-18T02:52:41.406Z"
   },
   {
    "duration": 4,
    "start_time": "2024-06-18T02:52:46.949Z"
   },
   {
    "duration": 6,
    "start_time": "2024-06-18T02:52:52.290Z"
   },
   {
    "duration": 4,
    "start_time": "2024-06-18T02:52:56.488Z"
   },
   {
    "duration": 6,
    "start_time": "2024-06-18T02:53:00.178Z"
   },
   {
    "duration": 4,
    "start_time": "2024-06-18T02:53:03.026Z"
   },
   {
    "duration": 38,
    "start_time": "2024-06-18T02:53:06.004Z"
   },
   {
    "duration": 40,
    "start_time": "2024-06-18T02:53:09.905Z"
   },
   {
    "duration": 28,
    "start_time": "2024-06-18T02:53:45.449Z"
   },
   {
    "duration": 81,
    "start_time": "2024-06-18T02:54:06.878Z"
   },
   {
    "duration": 97,
    "start_time": "2024-06-18T02:54:10.137Z"
   },
   {
    "duration": 80,
    "start_time": "2024-06-18T02:54:19.983Z"
   },
   {
    "duration": 10,
    "start_time": "2024-06-18T02:54:22.896Z"
   },
   {
    "duration": 4,
    "start_time": "2024-06-18T02:54:42.949Z"
   },
   {
    "duration": 13,
    "start_time": "2024-06-18T02:54:45.252Z"
   },
   {
    "duration": 14,
    "start_time": "2024-06-18T02:54:48.798Z"
   },
   {
    "duration": 16,
    "start_time": "2024-06-18T02:54:54.094Z"
   },
   {
    "duration": 14,
    "start_time": "2024-06-18T02:54:57.069Z"
   },
   {
    "duration": 5,
    "start_time": "2024-06-18T02:55:01.257Z"
   },
   {
    "duration": 30,
    "start_time": "2024-06-18T02:55:05.202Z"
   },
   {
    "duration": 23,
    "start_time": "2024-06-18T02:55:07.388Z"
   },
   {
    "duration": 21,
    "start_time": "2024-06-18T02:55:10.690Z"
   },
   {
    "duration": 29,
    "start_time": "2024-06-18T02:55:13.376Z"
   },
   {
    "duration": 24,
    "start_time": "2024-06-18T02:55:15.370Z"
   },
   {
    "duration": 20,
    "start_time": "2024-06-18T02:55:18.191Z"
   },
   {
    "duration": 4,
    "start_time": "2024-06-18T03:13:07.264Z"
   },
   {
    "duration": 26,
    "start_time": "2024-06-18T03:13:16.690Z"
   },
   {
    "duration": 20,
    "start_time": "2024-06-18T03:13:19.658Z"
   },
   {
    "duration": 24,
    "start_time": "2024-06-18T03:13:22.654Z"
   },
   {
    "duration": 20,
    "start_time": "2024-06-18T03:13:27.439Z"
   },
   {
    "duration": 23,
    "start_time": "2024-06-18T03:13:29.476Z"
   },
   {
    "duration": 19,
    "start_time": "2024-06-18T03:13:32.265Z"
   },
   {
    "duration": 466,
    "start_time": "2024-06-18T19:13:50.424Z"
   },
   {
    "duration": 158,
    "start_time": "2024-06-18T19:13:50.894Z"
   },
   {
    "duration": 23,
    "start_time": "2024-06-18T19:13:51.055Z"
   },
   {
    "duration": 51,
    "start_time": "2024-06-18T19:13:51.080Z"
   },
   {
    "duration": 4,
    "start_time": "2024-06-18T19:13:51.136Z"
   },
   {
    "duration": 6,
    "start_time": "2024-06-18T19:13:51.143Z"
   },
   {
    "duration": 7,
    "start_time": "2024-06-18T19:13:51.152Z"
   },
   {
    "duration": 7,
    "start_time": "2024-06-18T19:13:51.161Z"
   },
   {
    "duration": 5,
    "start_time": "2024-06-18T19:13:51.170Z"
   },
   {
    "duration": 27,
    "start_time": "2024-06-18T19:13:51.230Z"
   },
   {
    "duration": 42,
    "start_time": "2024-06-18T19:13:51.259Z"
   },
   {
    "duration": 51,
    "start_time": "2024-06-18T19:13:51.303Z"
   },
   {
    "duration": 103,
    "start_time": "2024-06-18T19:13:51.357Z"
   },
   {
    "duration": 111,
    "start_time": "2024-06-18T19:13:51.466Z"
   },
   {
    "duration": 85,
    "start_time": "2024-06-18T19:13:51.580Z"
   },
   {
    "duration": 13,
    "start_time": "2024-06-18T19:13:51.667Z"
   },
   {
    "duration": 5,
    "start_time": "2024-06-18T19:13:51.683Z"
   },
   {
    "duration": 43,
    "start_time": "2024-06-18T19:13:51.692Z"
   },
   {
    "duration": 13,
    "start_time": "2024-06-18T19:13:51.738Z"
   },
   {
    "duration": 19,
    "start_time": "2024-06-18T19:13:51.754Z"
   },
   {
    "duration": 52,
    "start_time": "2024-06-18T19:13:51.780Z"
   },
   {
    "duration": 5,
    "start_time": "2024-06-18T19:13:51.835Z"
   },
   {
    "duration": 25,
    "start_time": "2024-06-18T19:13:51.842Z"
   },
   {
    "duration": 21,
    "start_time": "2024-06-18T19:13:51.869Z"
   },
   {
    "duration": 54,
    "start_time": "2024-06-18T19:13:51.893Z"
   },
   {
    "duration": 20,
    "start_time": "2024-06-18T19:13:51.949Z"
   },
   {
    "duration": 24,
    "start_time": "2024-06-18T19:13:51.972Z"
   },
   {
    "duration": 57,
    "start_time": "2024-06-18T19:13:52.000Z"
   }
  ],
  "colab": {
   "collapsed_sections": [
    "E0vqbgi9ay0H",
    "VUC88oWjTJw2"
   ],
   "provenance": []
  },
  "kernelspec": {
   "display_name": "Python 3",
   "language": "python",
   "name": "python3"
  },
  "language_info": {
   "codemirror_mode": {
    "name": "ipython",
    "version": 3
   },
   "file_extension": ".py",
   "mimetype": "text/x-python",
   "name": "python",
   "nbconvert_exporter": "python",
   "pygments_lexer": "ipython3",
   "version": "3.12.3"
  },
  "toc": {
   "base_numbering": 1,
   "nav_menu": {},
   "number_sections": true,
   "sideBar": true,
   "skip_h1_title": true,
   "title_cell": "Table of Contents",
   "title_sidebar": "Contents",
   "toc_cell": false,
   "toc_position": {},
   "toc_section_display": true,
   "toc_window_display": false
  }
 },
 "nbformat": 4,
 "nbformat_minor": 1
}
